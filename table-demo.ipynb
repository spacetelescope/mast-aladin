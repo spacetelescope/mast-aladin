{
 "cells": [
  {
   "cell_type": "code",
   "execution_count": null,
   "id": "d5a7eca0-884a-4c12-b584-414ea201478b",
   "metadata": {},
   "outputs": [],
   "source": [
    "from pathlib import Path\n",
    "import numpy as np\n",
    "from sidecar import Sidecar\n",
    "\n",
    "from astropy.coordinates import SkyCoord\n",
    "from mast_aladin_lite import MastAladin\n",
    "from astroquery.mast.missions import MastMissions\n",
    "import astropy.units as u\n",
    "from ipywidgets import widgets, Layout, VBox"
   ]
  },
  {
   "cell_type": "markdown",
   "id": "a7db2990-6e66-4747-b0f6-ca4662435bbe",
   "metadata": {},
   "source": [
    "Query MAST for data products on M92 from JWST:"
   ]
  },
  {
   "cell_type": "code",
   "execution_count": null,
   "id": "84f0b6dd-f312-4def-b80e-8f2c2f9d8823",
   "metadata": {},
   "outputs": [],
   "source": [
    "target_name = \"TRAPPIST-1\"\n",
    "\n",
    "from astroquery.mast import Catalogs\n",
    "\n",
    "catalog_data = Catalogs.query_region(\n",
    "    coordinates=SkyCoord.from_name(target_name),\n",
    "    radius=1.2*u.arcmin,\n",
    "    catalog=\"Gaia\",\n",
    ")\n",
    "# note: the Hubble Source Catalog doesn't have `ra` and `dec` columns, \n",
    "# which are needed by aladin-lite:\n",
    "# catalog_data.rename_columns(['MatchRA', 'MatchDec'], ['ra', 'dec'])\n",
    "\n",
    "\n",
    "# find MAST data products\n",
    "MastMissions.mission = 'jwst'\n",
    "products = MastMissions.query_criteria(program=1201, exp_type='NRS_WATA', targprop=target_name)"
   ]
  },
  {
   "cell_type": "markdown",
   "id": "a46fa6dc-4d30-45a3-85a7-e33bc1173244",
   "metadata": {},
   "source": [
    "Launch `mast-aladin-lite` and a table viewer with the available data products:"
   ]
  },
  {
   "cell_type": "code",
   "execution_count": null,
   "id": "f98df055-8aa5-44d5-b12f-6faa8e6c2c6c",
   "metadata": {},
   "outputs": [],
   "source": [
    "# create an instance of MastAladin:\n",
    "mast_aladin = MastAladin(\n",
    "    target=target_name,\n",
    "    fov=0.05,\n",
    "    height=600,\n",
    "    survey='SDSS9 colored',\n",
    ")\n",
    "\n",
    "# open the MastAladin widget on the right:\n",
    "with Sidecar(title='Aladin', anchor='right'):\n",
    "    display(\n",
    "        VBox(\n",
    "            children=(\n",
    "                # this displays the aladin-lite widget:\n",
    "                mast_aladin,\n",
    "                \n",
    "                # this displays an \"info\" widget below, useful\n",
    "                # for printing and debugging:\n",
    "                mast_aladin.info\n",
    "            )\n",
    "        )\n",
    "    )"
   ]
  },
  {
   "cell_type": "code",
   "execution_count": null,
   "id": "991bb1d5-12f9-467d-b177-d03b84e95e19",
   "metadata": {},
   "outputs": [],
   "source": [
    "# at the moment, the regions must be loaded before the catalog. it seems\n",
    "# like the active layer of \"objects\" that can be selected is the last-loaded\n",
    "# layer of \"objects\"\n",
    "mast_aladin.add_graphic_overlay_from_stcs(list(products['s_region']))\n",
    "\n",
    "# now load the table with the method in MastAladin, which\n",
    "# passes the catalog on through aladin-lite and creates a\n",
    "# table widget:\n",
    "mast_aladin.load_table(catalog_data, name='gaia')\n",
    "\n",
    "# display the table widget below:\n",
    "with Sidecar(title='Table', anchor='split-bottom'):\n",
    "    display(mast_aladin.selected_table)\n",
    "\n",
    "# this demo callback will fire whenever another \n",
    "# object in the catalog is selected:\n",
    "def callback(msg):\n",
    "    print(\"this callback will change aladin-lite one day\")\n",
    "\n",
    "# add the callback to a list of callbacks that fire on each change\n",
    "# in selected objects:\n",
    "mast_aladin.selected_table.row_select_callbacks = [callback]"
   ]
  },
  {
   "cell_type": "code",
   "execution_count": null,
   "id": "19ef0861-3bdb-418c-aef6-3fd7d1891d05",
   "metadata": {},
   "outputs": [],
   "source": []
  },
  {
   "cell_type": "code",
   "execution_count": null,
   "id": "e5f85e60-ea1e-44f2-a53b-cb7d999350ae",
   "metadata": {},
   "outputs": [],
   "source": []
  }
 ],
 "metadata": {
  "kernelspec": {
   "display_name": "Python 3 (ipykernel)",
   "language": "python",
   "name": "python3"
  },
  "language_info": {
   "codemirror_mode": {
    "name": "ipython",
    "version": 3
   },
   "file_extension": ".py",
   "mimetype": "text/x-python",
   "name": "python",
   "nbconvert_exporter": "python",
   "pygments_lexer": "ipython3",
   "version": "3.11.11"
  }
 },
 "nbformat": 4,
 "nbformat_minor": 5
}
