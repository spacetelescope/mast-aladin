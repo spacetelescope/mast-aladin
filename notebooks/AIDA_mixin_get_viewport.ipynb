{
 "cells": [
  {
   "cell_type": "markdown",
   "id": "83ecc6e3-bfa1-45bc-a762-69e0a0ef4105",
   "metadata": {},
   "source": [
    "## AIDA Mixin Demo"
   ]
  },
  {
   "cell_type": "code",
   "execution_count": null,
   "id": "bb7ade2f-f073-411f-89ae-730094092eab",
   "metadata": {},
   "outputs": [],
   "source": [
    "from mast_aladin_lite import MastAladin\n",
    "from astropy.coordinates import SkyCoord\n",
    "\n",
    "# Initializing with target loc set using ipyaladin method\n",
    "mast_aladin = MastAladin(\n",
    "    target = \"269.999666,65.9000833\",\n",
    "    zoom = 2,\n",
    ")\n",
    "mast_aladin"
   ]
  },
  {
   "cell_type": "code",
   "execution_count": null,
   "id": "65f31e74-c021-4595-b100-950d8d789871",
   "metadata": {},
   "outputs": [],
   "source": [
    "# Adding a footprint for easy visual reference of functionality\n",
    "# aladin-lite can load a footprint from an STC-S string like this one:\n",
    "stcs_string = \"POLYGON ICRS 269.986903302 65.984279763 269.986696947 66.107243454 269.676617336 66.107210320 269.679951241 65.984356587\"\n",
    "mast_aladin.add_graphic_overlay_from_stcs(stcs_string)"
   ]
  },
  {
   "cell_type": "code",
   "execution_count": null,
   "id": "7859ba85-5e06-436e-ba4a-ca2fa122be3e",
   "metadata": {},
   "outputs": [],
   "source": [
    "# Recentering on corner of earlier polygon\n",
    "mast_aladin.aid.set_viewport(SkyCoord(269.986903302, 65.984279763, unit=\"deg\"))"
   ]
  },
  {
   "cell_type": "code",
   "execution_count": null,
   "id": "8f22cc7a-78b0-4d64-adff-3738d5e0bdc1",
   "metadata": {},
   "outputs": [],
   "source": [
    "# Get this viewport state for later\n",
    "viewport_state = mast_aladin.aid.get_viewport()\n",
    "viewport_state"
   ]
  },
  {
   "cell_type": "code",
   "execution_count": null,
   "id": "70e93217-6e72-4fa0-8562-a5bd43c911db",
   "metadata": {},
   "outputs": [],
   "source": [
    "# Center the viewer on RA=0 deg, Dec=0 deg\n",
    "mast_aladin.aid.set_viewport(center=SkyCoord(0,0, unit=\"deg\"))"
   ]
  },
  {
   "cell_type": "code",
   "execution_count": null,
   "id": "e88af4a3-0232-47a9-81a5-18396f2415e4",
   "metadata": {},
   "outputs": [],
   "source": [
    "# Now, let's return the viewport to the state that centers on the corner of the eartlier polygon\n",
    "mast_aladin.aid.set_viewport(viewport_state[\"center\"])"
   ]
  },
  {
   "cell_type": "code",
   "execution_count": null,
   "id": "a5210b2e-3c03-4e9d-877e-7d2bbcb54452",
   "metadata": {},
   "outputs": [],
   "source": [
    "# Raises NotImplementedError since aladin-lite has no concept of pixels\n",
    "mast_aladin.aid.get_viewport(sky_or_pixel=\"pixel\")"
   ]
  },
  {
   "cell_type": "code",
   "execution_count": null,
   "id": "764042c6-8292-42e2-ab4e-a5604aae2b76",
   "metadata": {},
   "outputs": [],
   "source": [
    "# Raises warning since aladin-lite only shows one image and has no concept of labels\n",
    "mast_aladin.aid.get_viewport(image_label = \"image1\")"
   ]
  },
  {
   "cell_type": "code",
   "execution_count": null,
   "id": "94f53f5a-f948-4ba6-bd2e-09c130c9c230",
   "metadata": {},
   "outputs": [],
   "source": [
    "mast_aladin.aid.get_viewport?"
   ]
  }
 ],
 "metadata": {
  "kernelspec": {
   "display_name": "Python 3 (ipykernel)",
   "language": "python",
   "name": "python3"
  },
  "language_info": {
   "codemirror_mode": {
    "name": "ipython",
    "version": 3
   },
   "file_extension": ".py",
   "mimetype": "text/x-python",
   "name": "python",
   "nbconvert_exporter": "python",
   "pygments_lexer": "ipython3",
   "version": "3.11.11"
  }
 },
 "nbformat": 4,
 "nbformat_minor": 5
}
