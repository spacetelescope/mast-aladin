{
 "cells": [
  {
   "cell_type": "markdown",
   "id": "2bc6edaf-38f0-419e-a7e9-d5f9672f7c15",
   "metadata": {},
   "source": [
    "# Region Search Overview and Examples\n",
    "This notebook shows how to query MAST by region and shows how that could be used in an RRN workflow.\n",
    "## Imports"
   ]
  },
  {
   "cell_type": "code",
   "execution_count": null,
   "id": "cd188b8a-4954-42bc-b452-bdec34febe08",
   "metadata": {},
   "outputs": [],
   "source": [
    "from astropy import units as u\n",
    "from astroquery.mast import Observations\n",
    "from pyvo.dal import TAPService\n",
    "\n",
    "from mast_aladin import AppSidecar, MastAladin"
   ]
  },
  {
   "cell_type": "markdown",
   "id": "81e05ae7-2fc3-4a23-be55-fdc130d89622",
   "metadata": {},
   "source": [
    "## MAST Region Search Overview\n",
    "Region search in MAST is supported via the [MAST CAOM TAP service](https://mast.stsci.edu/vo-tap/api/v0.1/caom/).  We can use the `pyvo` package to make the TAP queries with the query constraints specified in SQL-like [Astronomical Data Query Language (ADQL)](https://www.ivoa.net/documents/ADQL/20231215/index.html)."
   ]
  },
  {
   "cell_type": "markdown",
   "id": "aa128927-1a99-43c5-87bf-e8aa1ccd0007",
   "metadata": {},
   "source": [
    "### Basic MAST TAP Query Using pyvo\n",
    "Given the ADQL for a TAP query, that TAP query can be performed on the MAST TAP service with the following code:\n",
    "```python\n",
    "from pyvo.dal import TAPService\n",
    "\n",
    "# Create your ADQL.\n",
    "adql = 'SELECT * FROM...whatever your query is'\n",
    "\n",
    "# Create the TAPService object by supplying the endpoint of the MAST CAOM TAP service.\n",
    "mast_caom_tap_service = TAPService('https://mast.stsci.edu/vo-tap/api/v0.1/caom')\n",
    "\n",
    "# Perform the query.  \"run_sync\" allows for a longer-running query by managing job creation and polling \n",
    "# behind the scenes.  To the user here this is a synchronous call.\n",
    "results = mast_caom_tap_service.run_async(adql)\n",
    "\n",
    "# Convert the results from a TAPResults object to an astropy table.\n",
    "table_results = results.to_table()\n",
    "```"
   ]
  },
  {
   "cell_type": "markdown",
   "id": "f131968d-4d30-48eb-86d6-d3ee36dd3fb8",
   "metadata": {},
   "source": [
    "### ADQL Structure for a Region Query\n",
    "To search MAST for the first `limit` observations whose footprints overlap a given region, the basic ADQL looks like:\n",
    "```sql\n",
    "SELECT TOP {limit} *\n",
    "FROM dbo.obspointing o\n",
    "WHERE\n",
    "CONTAINS(POINT('ICRS',s_ra,s_dec), \n",
    "   {adql_region}\n",
    ")=1\n",
    "```\n",
    "where `adql_region` is the ADQL syntax for specifying a polygon or circle.  Those specification require a coordinate frame (which we always specify as `'ICRS'`), and a list of numbers (decimal degrees).  For polygons, the list of numbers is RA1, Dec1, RA2, Dec2, etc.  For circles the numbers are RA, Dec and radius.\n",
    "\n",
    "#### ADQL Example: Query top 10 observations in a 1.0 x 0.2 degree rectangle around 270, 60\n",
    "```sql\n",
    "SELECT TOP 10 *\n",
    "FROM dbo.obspointing o\n",
    "WHERE\n",
    "CONTAINS(POINT('ICRS',s_ra,s_dec), \n",
    "   POLYGON('ICRS', 270.5, 60.1, 269.5, 60.1, 269.5, 59.9, 270.5, 59.9)\n",
    ")=1\n",
    "```\n",
    "\n",
    "#### ADQL Example: Query top 50 observations in a 0.2 degree radius circle around 345, -50\n",
    "```sql\n",
    "SELECT TOP 50 *\n",
    "FROM dbo.obspointing o\n",
    "WHERE\n",
    "CONTAINS(POINT('ICRS',s_ra,s_dec), \n",
    "   CIRCLE('ICRS', 345, -50, 0.2)\n",
    ")=1\n",
    "```\n",
    "\n"
   ]
  },
  {
   "cell_type": "markdown",
   "id": "bb872bd8-17ab-45ba-bce9-3c4a16b743b1",
   "metadata": {},
   "source": [
    "### Helper Functions\n",
    "The ADQL for a region query is a bit involved, so we'll provide some helper functions to make the region part of the query easier to construct.  They'll start out in this notebook, but belong somewhere else like `MastAladin` or `astroquery`.\n",
    "\n",
    "The user would typically call one of:\n",
    "\n",
    "- `mast_reqion_query(region, other_clauses='', limit=50000)` \n",
    "- `mast_region_query_aladin_fov(aladin, other_clauses='', limit=50000, show_query=True)`\n",
    "\n",
    "which would use the other two helper functions:\n",
    "- `create_mast_region_adql(region, other_clauses='', limit=50000)`\n",
    "- `create_adql_region(region)`\n",
    "\n",
    "So far for demo purposes, `region` can be:\n",
    "- an `s_region`\n",
    "- list of points (RA/Dec tuples)\n",
    "But it should be extended to support:\n",
    "- astropy regions\n",
    "- AIDA fovs\n",
    "- Other?"
   ]
  },
  {
   "cell_type": "code",
   "execution_count": null,
   "id": "4657aeb9-3815-4c91-8263-473a23366e88",
   "metadata": {},
   "outputs": [],
   "source": [
    "def create_adql_region(region):\n",
    "    \"\"\"\n",
    "    Returns the ADQL description of the given polygon or cirle region\n",
    "    \n",
    "    region - Iterable of RA/Dec pairs as lists/sequences OR\n",
    "             stc-s POLYGON or CIRCLE string OR\n",
    "             astropy region (TBD) OR\n",
    "             other (TBD)\n",
    "    \"\"\"\n",
    "    adql_region = None\n",
    "    if isinstance(region, str):\n",
    "        region = region.lower()\n",
    "        parts = region.split()\n",
    "        if parts[0] == 'polygon':\n",
    "            # Assume we've got an STC-s polygon\n",
    "            try:\n",
    "                float(parts[1])\n",
    "                point_parts = parts[1:] # There's no coord frame present if we got this far.\n",
    "            except ValueError:\n",
    "                point_parts = parts[2:]\n",
    "            point_string = ','.join(point_parts)\n",
    "            adql_region = f\"POLYGON('ICRS',{point_string})\"\n",
    "        elif parts[0] == 'circle':\n",
    "            # Assume we've got an STC-s circle\n",
    "            try:\n",
    "                float(parts[1])\n",
    "                radius = parts[1]\n",
    "                point_parts = parts[2:]\n",
    "            except ValueError:\n",
    "                radius = parts[2]\n",
    "                point_parts = parts[3:]\n",
    "            point_string = ','.join(point_parts)\n",
    "            adql_region = f\"CIRCLE('ICRS',{point_string},{radius})\"\n",
    "    else:\n",
    "        # Assume we've got a list/sequence of points (lists/sequences)\n",
    "        point_string = ','.join([str(num) for point in region for num in point])\n",
    "        adql_region = f\"POLYGON('ICRS',{point_string})\"\n",
    "\n",
    "    return adql_region"
   ]
  },
  {
   "cell_type": "code",
   "execution_count": null,
   "id": "7ed7e2fc-5fdf-44fe-a548-dc9339222f71",
   "metadata": {},
   "outputs": [],
   "source": [
    "def create_mast_region_adql(region, other_clauses='', limit=50000):\n",
    "    \"\"\"\n",
    "    Creates the ADQL to query the MAST CAOM TAP service for observations over the\n",
    "    specified region.\n",
    "    \n",
    "    region - Iterable of RA/Dec pairs as lists/sequences OR\n",
    "             stc-s POLYGON or CIRCLE string OR\n",
    "             astropy region (TBD) OR\n",
    "             other (TBD)\n",
    "    other_clauses - ADQL to tack on to the end of the CAOM TAP obspointing query\n",
    "    limit - max number of rows to return (default 50000)\n",
    "\n",
    "    Returns a string containing the necessary ADQL.\n",
    "    \"\"\"\n",
    "    adql = None\n",
    "    adql_region = create_adql_region(region)\n",
    "    if adql_region:\n",
    "        adql = f\"\"\"\n",
    "SELECT TOP {limit} *\n",
    "FROM dbo.obspointing o\n",
    "WHERE\n",
    "CONTAINS(POINT('ICRS',s_ra,s_dec), \n",
    "   {adql_region}\n",
    ")=1\n",
    "\"\"\"\n",
    "        adql += other_clauses\n",
    "        return adql"
   ]
  },
  {
   "cell_type": "code",
   "execution_count": null,
   "id": "16e358ac-3ddb-45a1-b55a-34478938740e",
   "metadata": {},
   "outputs": [],
   "source": [
    "def mast_reqion_query(region, other_clauses='', limit=50000, show_query=True):\n",
    "    \"\"\"\n",
    "    Query MAST observations over the specified region using the MAST CAOM TAP service.\n",
    "    \n",
    "    region - Iterable of RA/Dec pairs as lists/sequences OR\n",
    "             stc-s POLYGON or CIRCLE string OR\n",
    "             astropy region (TBD) OR\n",
    "             other (TBD)\n",
    "    other_clauses - ADQL to tack on to the end of the CAOM TAP obspointing query\n",
    "    limit - max number of rows to return (default 50000)\n",
    "\n",
    "    Returns an astropy table of MAST observations much like astroquery.mast Observations queries.\n",
    "    \"\"\"\n",
    "    adql = create_mast_region_adql(region, other_clauses, limit)\n",
    "    if not adql:\n",
    "        raise ValueError('region must be iterable of RA/Dec pairs as lists/sequences '\n",
    "                         'OR valid stc-s POLYGON or CIRCLE string')\n",
    "\n",
    "    mast_caom_tap_service = TAPService(\"https://mast.stsci.edu/vo-tap/api/v0.1/caom\")\n",
    "    \n",
    "    if show_query:\n",
    "        print(f'Querying MAST CAOM TAP with:\\n{adql}')\n",
    "    \n",
    "    results = mast_caom_tap_service.run_async(adql)\n",
    "    table_results = results.to_table()\n",
    "    if show_query:\n",
    "        print(f'Number of results: {len(table_results)}')\n",
    "    \n",
    "    return table_results"
   ]
  },
  {
   "cell_type": "code",
   "execution_count": null,
   "id": "b19f95ff-fa02-4775-95f3-ede9cbf46264",
   "metadata": {},
   "outputs": [],
   "source": [
    "def mast_region_query_aladin_fov(aladin, other_clauses='', limit=50000, show_query=True):\n",
    "    \"\"\"\n",
    "    Query MAST observations over the FoV of the specified Aladin instance.  We won't do the\n",
    "    search if Aladin's FoV is greater than 1 degree or its WCS doesn't exist for some reason.\n",
    "    \n",
    "    aladin - A MastAladin instance.\n",
    "    other_clauses - ADQL to tack on to the end of the CAOM TAP obspointing query\n",
    "    limit - max number of rows to return (default 50000)\n",
    "\n",
    "    Returns an astropy table of MAST observations much like astroquery.mast Observations queries.\n",
    "    \"\"\"\n",
    "    results = None\n",
    "    \n",
    "    # Don't do it if FoV is bigger than 1 degree.\n",
    "    if aladin.fov > 1 * u.degree:\n",
    "        print(f'FoV of {aladin.fov} is greater than the 1 degree limit.')\n",
    "    elif aladin.wcs:\n",
    "        footprint = aladin.wcs.calc_footprint()\n",
    "        results = mast_reqion_query(footprint, other_clauses=other_clauses, limit=limit, show_query=show_query)\n",
    "    else:\n",
    "        print('Aladin WCS information not found')\n",
    "\n",
    "    return results"
   ]
  },
  {
   "cell_type": "markdown",
   "id": "609d7709-69db-4e7b-bfda-605cad354237",
   "metadata": {},
   "source": [
    "# Example: Search on Existing Footprint\n",
    "Given the footprint of a JWST observation, search MAST for HST observations whose footprints overlap the JWST observation.\n",
    "## Set Up Aladin\n",
    "Create Aladin in a sidecar centered on M101."
   ]
  },
  {
   "cell_type": "code",
   "execution_count": null,
   "id": "6b328c83-3522-4a7b-80e1-7375eb9bf93d",
   "metadata": {},
   "outputs": [],
   "source": [
    "aladin = MastAladin(\n",
    "    target=\"M101\",\n",
    "    fov=0.5\n",
    ")\n",
    "apps_initialized = AppSidecar(aladin, anchor='split-right')\n",
    "AppSidecar.resize_all(800)"
   ]
  },
  {
   "cell_type": "markdown",
   "id": "3ba9625e-dcd2-482c-9c85-686e398f0f2f",
   "metadata": {},
   "source": [
    "## Find and Display Desired JWST Observation Footprint\n",
    "This example uses `astroquery.mast` observation search to find the footprints, but it could have come from JdaViz or many other places.\n",
    "\n",
    "After finding the observation via `astroquery.mast` we add the result table as an overlay in Aladin so that we can see the footprint (in green)."
   ]
  },
  {
   "cell_type": "code",
   "execution_count": null,
   "id": "cbd3179b-411c-49d8-8a38-1cce0a3d8825",
   "metadata": {},
   "outputs": [],
   "source": [
    "jwst_obs = Observations.query_criteria(obs_id='jw03429-o013_t005_nircam_clear-f444w')\n",
    "jwst_obs_layer = aladin.add_table(jwst_obs, name='JWST Observation', color='green')"
   ]
  },
  {
   "cell_type": "markdown",
   "id": "d8759d6e-3bab-4f22-add6-92b5c1a60b24",
   "metadata": {},
   "source": [
    "## Search on the Existing Footprint\n",
    "Use the existing footprint as the `region` input for a MAST region TAP query.\n",
    "\n",
    "This example adds the `other_clauses` argument to limit the results to HST.  It does not bother to specify a `limit` since there aren't likely to be that many results.\n",
    "\n",
    "Add the results as an Aladin overlay (in Portal footprint orange)."
   ]
  },
  {
   "cell_type": "code",
   "execution_count": null,
   "id": "c18753ba-d3cf-49f7-933d-945150b30100",
   "metadata": {},
   "outputs": [],
   "source": [
    "# Search MAST for HST observations that overlap with the JWST observation.\n",
    "footprint = jwst_obs[0]['s_region']\n",
    "other_clauses = \"\"\"\n",
    "AND obs_collection = 'HST'\n",
    "AND project = 'HST'\n",
    "\"\"\"\n",
    "\n",
    "hst_obs = mast_reqion_query(footprint, other_clauses=other_clauses)\n",
    "hst_obs_layer = aladin.add_table(hst_obs, name='HST Observations', color='#FF6600')"
   ]
  },
  {
   "cell_type": "markdown",
   "id": "f646fbe2-0574-422a-8ad3-53d26cbc60d2",
   "metadata": {},
   "source": [
    "# Example: Search on Current Aladin FoV\n",
    "Search on the polygon defined by Aladin's current viewport.  The polygon corners are computed using Aladin's notion of the WCS for the viewport.  We don't allow searches if the FoV is greater than 1 degree.\n",
    "\n",
    "We'll use the existing Aladin instance.\n",
    "\n",
    "## Search for HST on Current FoV."
   ]
  },
  {
   "cell_type": "code",
   "execution_count": null,
   "id": "713a9213-f106-478b-ab55-785c119ad12a",
   "metadata": {},
   "outputs": [],
   "source": [
    "# Search MAST for HST observations that contain the current Aladin FoV.\n",
    "other_clauses = \"\"\"\n",
    "AND obs_collection = 'HST'\n",
    "AND project = 'HST'\n",
    "\"\"\"\n",
    "hst_fov_obs = mast_region_query_aladin_fov(aladin, other_clauses=other_clauses)\n",
    "\n",
    "# Add the results in yellow.\n",
    "hst_fov_obs_layer = aladin.add_table(hst_fov_obs, name='HST FoV Observations', color='yellow')"
   ]
  },
  {
   "cell_type": "markdown",
   "id": "30059fd7-456e-4b13-903a-197d64b6b2b7",
   "metadata": {},
   "source": [
    "## Search for TESS on Current FoV."
   ]
  },
  {
   "cell_type": "code",
   "execution_count": null,
   "id": "91992d20-2563-4bac-ae56-20f01bcb120b",
   "metadata": {},
   "outputs": [],
   "source": [
    "# Search MAST for TESS observations that contain the current Aladin FoV.\n",
    "other_clauses = \"\"\"\n",
    "AND obs_collection = 'TESS'\n",
    "AND project = 'TESS'\n",
    "\"\"\"\n",
    "tess_fov_obs = mast_region_query_aladin_fov(aladin, other_clauses=other_clauses)\n",
    "\n",
    "# Add the results in blue.\n",
    "tess_fov_obs_layer = aladin.add_table(tess_fov_obs, name='TESS FoV Observations', color='blue')"
   ]
  }
 ],
 "metadata": {
  "kernelspec": {
   "display_name": "Python 3 (ipykernel)",
   "language": "python",
   "name": "python3"
  },
  "language_info": {
   "codemirror_mode": {
    "name": "ipython",
    "version": 3
   },
   "file_extension": ".py",
   "mimetype": "text/x-python",
   "name": "python",
   "nbconvert_exporter": "python",
   "pygments_lexer": "ipython3",
   "version": "3.11.13"
  }
 },
 "nbformat": 4,
 "nbformat_minor": 5
}
