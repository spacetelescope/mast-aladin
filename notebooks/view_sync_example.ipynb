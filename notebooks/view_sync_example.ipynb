{
 "cells": [
  {
   "cell_type": "markdown",
   "id": "7f8b46be-d2b6-49e2-9a2e-c90646df4c39",
   "metadata": {},
   "source": [
    "# View Sync Example Notebook\n",
    "The following notebook demonstrates the syncing of Mast Aladin and Imviz viewers through a sample UI.\n",
    "\n",
    "### How it works\n",
    "Simply create an instance of Mast Aladin and Imviz, then the UI will utilize methods on both apps to retrieve the current instances you defined. The UI will then display an example layout of both viewers along with controls to manage the syncing of views between them.\n",
    "\n",
    "### Tips\n",
    "Once you load the UI, try the \"Sync to Imviz\" button to update the zoom level on the Mast Aladin Lite viewer to bring the Cartwheel Galaxy into view."
   ]
  },
  {
   "cell_type": "code",
   "execution_count": null,
   "id": "6cb18101-44bf-4cb5-a907-f8b45f9baf84",
   "metadata": {},
   "outputs": [],
   "source": [
    "from mast_aladin import MastAladin\n",
    "from mast_aladin_lite.adapters import ViewerSyncUI\n",
    "from jdaviz import Imviz\n",
    "\n",
    "import warnings"
   ]
  },
  {
   "cell_type": "code",
   "execution_count": null,
   "id": "31d177a1-7643-47ee-9385-b3d7c487d333",
   "metadata": {},
   "outputs": [],
   "source": [
    "aladin_viewer = MastAladin(target=\"Cartwheel Galaxy\", height=500)"
   ]
  },
  {
   "cell_type": "markdown",
   "id": "2e7f16ff-baee-4e6c-b32d-8c4ee2b42a6f",
   "metadata": {},
   "source": [
    "This example uses two JWST NIRCam observations of the Cartwheel Galaxy. These are large files (~500 MB each), so they make take some time to download. After the first time running this notebook, they will be cached locally.\n",
    "If you want to look at images from other filters, you can uncomment the lines with those filenames!"
   ]
  },
  {
   "cell_type": "code",
   "execution_count": null,
   "id": "6d693da8-dec5-4a31-a19c-86629441293f",
   "metadata": {},
   "outputs": [],
   "source": [
    "imviz = Imviz()\n",
    "imviz_viewer = imviz.default_viewer\n",
    "\n",
    "filenames = [\n",
    "    'jw02727-o002_t062_nircam_clear-f090w_i2d.fits',\n",
    "    # 'jw02727-o002_t062_nircam_clear-f150w_i2d.fits',\n",
    "    # 'jw02727-o002_t062_nircam_clear-f200w_i2d.fits',\n",
    "    'jw02727-o002_t062_nircam_clear-f277w_i2d.fits',\n",
    "    # 'jw02727-o002_t062_nircam_clear-f356w_i2d.fits',\n",
    "    # 'jw02727-o002_t062_nircam_clear-f444w_i2d.fits'\n",
    "]\n",
    "\n",
    "with warnings.catch_warnings(), imviz.batch_load():\n",
    "    warnings.simplefilter('ignore')\n",
    "    for fn in filenames:\n",
    "        uri = f\"mast:JWST/product/{fn}\"\n",
    "        imviz.load(uri, cache=True)"
   ]
  },
  {
   "cell_type": "code",
   "execution_count": null,
   "id": "6ce175cb-d4ac-493e-9e6d-5aa1837f9dbe",
   "metadata": {
    "editable": true,
    "slideshow": {
     "slide_type": ""
    },
    "tags": []
   },
   "outputs": [],
   "source": [
    "ui = ViewerSyncUI()\n",
    "ui.display()"
   ]
  },
  {
   "cell_type": "markdown",
   "id": "3c9e0262-cbbd-448f-819d-a9b578f4dad8",
   "metadata": {},
   "source": [
    "### Sync Rotation\n",
    "Try clicking the button in the UI to sync to `Mast Aladin` and then update the rotation of the `aladin_viewer` manually. You should see that `imviz` updates accordingly. The orientation plugin will also have a new orientation option selected corresponding to the aladin rotation."
   ]
  },
  {
   "cell_type": "code",
   "execution_count": null,
   "id": "c98ca6de-ade2-4c2e-9877-aba784e8a266",
   "metadata": {},
   "outputs": [],
   "source": [
    "aladin_viewer.rotation = 90"
   ]
  },
  {
   "cell_type": "code",
   "execution_count": null,
   "id": "c28a253b-a76f-4be6-8734-747f9f325c29",
   "metadata": {},
   "outputs": [],
   "source": []
  }
 ],
 "metadata": {
  "kernelspec": {
   "display_name": "Python 3 (ipykernel)",
   "language": "python",
   "name": "python3"
  },
  "language_info": {
   "codemirror_mode": {
    "name": "ipython",
    "version": 3
   },
   "file_extension": ".py",
   "mimetype": "text/x-python",
   "name": "python",
   "nbconvert_exporter": "python",
   "pygments_lexer": "ipython3",
   "version": "3.11.11"
  }
 },
 "nbformat": 4,
 "nbformat_minor": 5
}
