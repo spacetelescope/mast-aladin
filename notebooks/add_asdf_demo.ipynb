{
 "cells": [
  {
   "cell_type": "code",
   "execution_count": null,
   "id": "6f2f229a-936c-4096-8e6b-816c9202956c",
   "metadata": {},
   "outputs": [],
   "source": [
    "from mast_aladin import MastAladin, MastTable\n",
    "import astropy.units as u\n",
    "from astropy.coordinates import SkyCoord\n",
    "from astroquery.mast import MastMissions\n",
    "\n",
    "# query mast for Roman asdf\n",
    "target = SkyCoord(ra=269.8325254855945, dec=66.03550955132157, unit='deg')\n",
    "mast = MastMissions(mission='roman')\n",
    "mast._service_api_connection.SERVICE_URL = 'https://masttest.stsci.edu'\n",
    "mast._service_api_connection.REQUEST_URL = 'https://masttest.stsci.edu/search/roman/api/v0.1/'\n",
    "mast._service_api_connection.MISSIONS_DOWNLOAD_URL = 'https://masttest.stsci.edu/search/'\n",
    "\n",
    "obs = mast.query_region(target, radius=0.01 * u.deg)\n",
    "mast_table_obs = MastTable(obs)\n",
    "mast_table_obs.selected_rows = mast_table_obs.items[3:4]\n",
    "\n",
    "# we can see what fileset we have selected by displaying the MastTable\n",
    "mast_table_obs"
   ]
  },
  {
   "cell_type": "code",
   "execution_count": null,
   "id": "31014916-082a-4e6f-b621-6ef5464ead9f",
   "metadata": {},
   "outputs": [],
   "source": [
    "# now, we filter for the product we are interested in\n",
    "products = mast.get_product_list(mast_table_obs.selected_rows_table)\n",
    "cal_products = mast.filter_products(products, file_suffix='_cal')\n",
    "mast_table_products = MastTable(cal_products)\n",
    "mast_table_products.selected_rows = mast_table_products.items[0:2]\n",
    "\n",
    "# we can see what products we have selected by displaying the mast_table_products\n",
    "mast_table_products"
   ]
  },
  {
   "cell_type": "code",
   "execution_count": null,
   "id": "e928caa7-5797-4100-9f6e-879f758536d3",
   "metadata": {},
   "outputs": [],
   "source": [
    "# lastly, we will download this file to read into MastAladin\n",
    "download_filepath = mast.download_products(mast_table_products.selected_rows_table)['Local Path']"
   ]
  },
  {
   "cell_type": "code",
   "execution_count": null,
   "id": "13a7d30d-6f2b-4a8e-9a89-1cda767394e8",
   "metadata": {},
   "outputs": [],
   "source": [
    "mast_aladin = MastAladin(\n",
    "    zoom = 1\n",
    ")\n",
    "mast_aladin"
   ]
  },
  {
   "cell_type": "code",
   "execution_count": null,
   "id": "b7efbb1a-93f0-460a-8843-6d62567600fa",
   "metadata": {},
   "outputs": [],
   "source": [
    "# add the outline of the expected layer\n",
    "s_region = \"POLYGON ICRS 269.986945913 65.974265020 269.986740071 66.097228517 269.676782731 66.097195577 269.680114248 65.974342004\"\n",
    "layer_outline = mast_aladin.add_graphic_overlay_from_stcs(s_region, name = \"asdf outline\")\n",
    "\n",
    "# pass the filepath to the asdf we want to add\n",
    "asdf_filepath = \"./\"+str(download_filepath[0])\n",
    "\n",
    "mast_aladin.add_asdf(asdf_filepath)"
   ]
  },
  {
   "cell_type": "code",
   "execution_count": null,
   "id": "3901e3ba-1b1d-4a19-a10f-53d8263c34fe",
   "metadata": {},
   "outputs": [],
   "source": [
    "# we can pass other arguments related to the image options, including name and colormap for example\n",
    "# for a full account of possible arguments, see: https://cds-astro.github.io/aladin-lite/global.html#ImageOptions\n",
    "mast_aladin.add_asdf(asdf_filepath, name = \"Roman Build 19 Test ASDF\", colormap = \"viridis\")"
   ]
  },
  {
   "cell_type": "code",
   "execution_count": null,
   "id": "d0378e2f-0041-4fb9-8e64-2c5544b33546",
   "metadata": {},
   "outputs": [],
   "source": []
  }
 ],
 "metadata": {
  "kernelspec": {
   "display_name": "Python 3 (ipykernel)",
   "language": "python",
   "name": "python3"
  },
  "language_info": {
   "codemirror_mode": {
    "name": "ipython",
    "version": 3
   },
   "file_extension": ".py",
   "mimetype": "text/x-python",
   "name": "python",
   "nbconvert_exporter": "python",
   "pygments_lexer": "ipython3",
   "version": "3.11.11"
  }
 },
 "nbformat": 4,
 "nbformat_minor": 5
}
