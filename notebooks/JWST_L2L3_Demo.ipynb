{
 "cells": [
  {
   "cell_type": "markdown",
   "id": "eddc0f5e-43e9-4233-8899-976d4c035c73",
   "metadata": {},
   "source": [
    "## Initial Setup and Imports"
   ]
  },
  {
   "cell_type": "code",
   "execution_count": null,
   "id": "846d19b9-ec66-448a-82f2-d4190482fd04",
   "metadata": {},
   "outputs": [],
   "source": [
    "# Imports\n",
    "from astroquery.mast import MastMissions\n",
    "from astropy.coordinates import SkyCoord\n",
    "import astropy\n",
    "\n",
    "# Create a MastMissions object, assign mission to 'jwst' for James Webb Space Telescope data\n",
    "jwst_mission = MastMissions(mission='jwst')"
   ]
  },
  {
   "cell_type": "markdown",
   "id": "50fcf3a7-1fd5-4187-a134-74e09ff4cd6a",
   "metadata": {},
   "source": [
    "## Running Search for L3 Products"
   ]
  },
  {
   "cell_type": "code",
   "execution_count": null,
   "id": "a692e65c-40da-4f8b-a791-34e739a15051",
   "metadata": {},
   "outputs": [],
   "source": [
    "# Query for an object\n",
    "# Grabbing data level 3 products on crab nebula\n",
    "results = jwst_mission.query_object('CRABNEBULA',radius=1, productLevel=3)"
   ]
  },
  {
   "cell_type": "code",
   "execution_count": null,
   "id": "014794e0-b32a-4377-a5be-0e7e9d1c81f0",
   "metadata": {},
   "outputs": [],
   "source": [
    "# Determine what products are available for the first results\n",
    "products = jwst_mission.get_product_list(results[1])"
   ]
  },
  {
   "cell_type": "code",
   "execution_count": null,
   "id": "4e81d5c2-cc53-4693-b6a2-ab8171f08f50",
   "metadata": {},
   "outputs": [],
   "source": [
    "# Download the associated products\n",
    "#jwst_mission.download_products(products, download_dir = \"path/to/desired/output/location\")"
   ]
  },
  {
   "cell_type": "markdown",
   "id": "0a8baeb0-024d-4e60-9747-b21bbb4261ca",
   "metadata": {},
   "source": [
    "## Setup mast-aladin-lite for display"
   ]
  },
  {
   "cell_type": "code",
   "execution_count": null,
   "id": "f8918c9b-4441-41a4-92bf-d8e0b5e87f5c",
   "metadata": {},
   "outputs": [],
   "source": [
    "# Setup mast-aladin-lite for viewing footprints\n",
    "from mast_aladin_lite import MastAladin\n",
    "\n",
    "mast_aladin = MastAladin(\n",
    "    target = \"05 34 31.78 +22 01 02.6\",\n",
    "    zoom = 2,\n",
    ")\n",
    "\n",
    "mast_aladin"
   ]
  },
  {
   "cell_type": "code",
   "execution_count": null,
   "id": "92f70f11-d05f-475f-85df-74617e939c77",
   "metadata": {
    "scrolled": true
   },
   "outputs": [],
   "source": [
    "# Add the L3 results table from initial query for display\n",
    "mast_aladin.add_table(results)"
   ]
  },
  {
   "cell_type": "markdown",
   "id": "b9816a15-9875-428d-b5dd-75c40b21c796",
   "metadata": {},
   "source": [
    "## Determine Associated L2s"
   ]
  },
  {
   "cell_type": "code",
   "execution_count": null,
   "id": "522cd006-5356-4a87-8de2-9a79c335f6f8",
   "metadata": {
    "scrolled": true
   },
   "outputs": [],
   "source": [
    "# Parse the downloaded association file from above download\n",
    "import json\n",
    "file_path = \"path/to/desired/output/location/associationfile_asn.json\"\n",
    "with open(file_path, 'r') as file:\n",
    "     data = json.load(file)\n",
    "associated_L2s = [x[\"expname\"] for x in data[\"products\"][0][\"members\"]]\n",
    "\n",
    "# Remove ends of strings from L2 file-naming convention to match fileSetName in jwst MastMissions results table\n",
    "associated_L2s = [x.strip(\"_mirimage_cal.fits\") for x in associated_L2s]"
   ]
  },
  {
   "cell_type": "code",
   "execution_count": null,
   "id": "88555913-23f3-45e1-b1e2-375fdc8b571f",
   "metadata": {},
   "outputs": [],
   "source": [
    "# Query the same object with larger radius to capture all potential associated L2s\n",
    "followup_results = jwst_mission.query_object('CRABNEBULA',radius=5)\n",
    "\n",
    "# Filter to exclude L3 results\n",
    "filtered = followup_results[followup_results[\"productLevel\"] != \"3\"]\n",
    "\n",
    "# Create a mask to grab the L2s of interest we found above\n",
    "import numpy as np\n",
    "mask = np.isin(filtered[\"fileSetName\"], associated_L2s)\n",
    "\n",
    "# Apply the mask to get the filtered table, make sure we have the same number of results\n",
    "filtered_data = filtered[mask]\n",
    "len(filtered_data), len(associated_L2s)"
   ]
  },
  {
   "cell_type": "code",
   "execution_count": null,
   "id": "6b7a65c3-6a0d-412b-8511-6df08b59abb8",
   "metadata": {},
   "outputs": [],
   "source": [
    "# Lastly, add those into our aladin viewer! We can see the L2s comprising the initial L3 in the aladin viewer now\n",
    "aladin.add_table(filtered_data)"
   ]
  },
  {
   "cell_type": "code",
   "execution_count": null,
   "id": "2b19982a-035e-454d-abc8-8c4f4d07bba4",
   "metadata": {},
   "outputs": [],
   "source": []
  }
 ],
 "metadata": {
  "kernelspec": {
   "display_name": "Python 3 (ipykernel)",
   "language": "python",
   "name": "python3"
  },
  "language_info": {
   "codemirror_mode": {
    "name": "ipython",
    "version": 3
   },
   "file_extension": ".py",
   "mimetype": "text/x-python",
   "name": "python",
   "nbconvert_exporter": "python",
   "pygments_lexer": "ipython3",
   "version": "3.11.11"
  }
 },
 "nbformat": 4,
 "nbformat_minor": 5
}
