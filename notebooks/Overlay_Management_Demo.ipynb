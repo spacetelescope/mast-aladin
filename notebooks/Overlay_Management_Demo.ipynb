{
 "cells": [
  {
   "cell_type": "code",
   "execution_count": null,
   "id": "64ece6f1-e55e-4b77-9a99-6b9fe6931cbe",
   "metadata": {},
   "outputs": [],
   "source": [
    "from mast_aladin_lite import MastAladin, AppSidecar\n",
    "from astropy.coordinates import SkyCoord, Angle\n",
    "\n",
    "# Initializing with target loc set using ipyaladin method\n",
    "mast_aladin = MastAladin(\n",
    "    zoom = 2,\n",
    ")\n",
    "\n",
    "AppSidecar.open(mast_aladin, anchor = \"split-right\")"
   ]
  },
  {
   "cell_type": "code",
   "execution_count": null,
   "id": "6f93333f-e425-4ba4-b16f-e8cb08614b0f",
   "metadata": {},
   "outputs": [],
   "source": [
    "mast_aladin._overlays_dict.keys()"
   ]
  },
  {
   "cell_type": "code",
   "execution_count": null,
   "id": "7441498d-6caa-4d01-ac3f-dcb42b2d5f8a",
   "metadata": {},
   "outputs": [],
   "source": [
    "# add_markers demo\n",
    "from ipyaladin import Marker\n",
    "markers = []\n",
    "for i in range(1, 11):\n",
    "    name = f\"M{i}\"\n",
    "    markers.append(\n",
    "        Marker(\n",
    "            position=name,\n",
    "            title=name,\n",
    "            # the title and description can be written as plain text or as html elements\n",
    "            description=(\n",
    "                '<a href=\"https://simbad.cds.unistra.fr/simbad/'\n",
    "                f'sim-basic?Ident={name}&submit=SIMBAD+search\"> '\n",
    "                \"Read more on SIMBAD</a>\"\n",
    "            ),\n",
    "        )\n",
    "    )\n",
    "mast_aladin.target = \"M1\"\n",
    "marker_example = mast_aladin.add_markers(markers, name=\"M1-M10\", color=\"pink\", shape=\"cross\", source_size=15)\n",
    "print(mast_aladin._overlays_dict.keys())\n",
    "print(\"overlay name:\", marker_example.name)\n",
    "print(\"overlay type:\", marker_example.type)\n",
    "print(\"overlay options:\", marker_example.options)\n",
    "print(\"overlay data info:\", marker_example.data.keys())"
   ]
  },
  {
   "cell_type": "code",
   "execution_count": null,
   "id": "19f1f9df-75a3-4490-8e50-0b54ad93d129",
   "metadata": {},
   "outputs": [],
   "source": [
    "# add_catalog_from_URL demo\n",
    "url = (\n",
    "    \"https://vizier.unistra.fr/viz-bin/votable?-source=HIP2&-c=LMC&-out.add=_RAJ,_\"\n",
    "    \"DEJ&-oc.form=dm&-out.meta=DhuL&-out.max=9999&-c.rm=180\"\n",
    ")\n",
    "options = {\"source_size\": 12, \"color\": \"#f08080\", \"on_click\": \"showTable\", \"name\" : \"from_url\"}\n",
    "mast_aladin.target = \"LMC\"\n",
    "url_example = mast_aladin.add_catalog_from_URL(url, options)\n",
    "print(mast_aladin._overlays_dict.keys())\n",
    "print(\"overlay name:\", url_example.name)\n",
    "print(\"overlay type:\", url_example.type)\n",
    "print(\"overlay options:\", url_example.options)\n",
    "print(\"overlay data info:\", url_example.data.keys())"
   ]
  },
  {
   "cell_type": "code",
   "execution_count": null,
   "id": "189320aa-a6b5-48c7-b416-b6fcd0f5ef40",
   "metadata": {},
   "outputs": [],
   "source": [
    "# add_table demo\n",
    "from astroquery.mast import MastMissions\n",
    "\n",
    "# Create a MastMissions object, assign mission to 'jwst' for James Webb Space Telescope data\n",
    "jwst_mission = MastMissions(mission='jwst')\n",
    "results = jwst_mission.query_object(\"CRAB NEBULA\",radius=1, productLevel=3)\n",
    "\n",
    "# Adding the initial query results as a catalog in ipyaladin\n",
    "mast_aladin.target = \"CRAB NEBULA\"\n",
    "table_example = mast_aladin.add_table(results, name = \"crab_nebula\")\n",
    "print(mast_aladin._overlays_dict.keys())\n",
    "print(\"overlay name:\", table_example.name)\n",
    "print(\"overlay type:\", table_example.type)\n",
    "print(\"overlay options:\", table_example.options)\n",
    "print(\"overlay data info:\", table_example.data.keys())"
   ]
  },
  {
   "cell_type": "code",
   "execution_count": null,
   "id": "f115663e-ae70-4ddf-994f-1cf7c1150e1c",
   "metadata": {},
   "outputs": [],
   "source": [
    "# add_graphic_overlay_from_region demo\n",
    "from regions import CircleSkyRegion\n",
    "\n",
    "center = SkyCoord.from_name(\"M31\")\n",
    "circle = CircleSkyRegion(\n",
    "    center=center, radius=Angle(0.5, \"deg\"), visual={\"edgecolor\": \"yellow\"}\n",
    ")\n",
    "mast_aladin.target = \"M31\"\n",
    "region_example = mast_aladin.add_graphic_overlay_from_region([circle], name = \"M31\")\n",
    "print(mast_aladin._overlays_dict.keys())\n",
    "print(\"overlay name:\", region_example.name)\n",
    "print(\"overlay type:\", region_example.type)\n",
    "print(\"overlay options:\", region_example.options)\n",
    "print(\"overlay data info:\", region_example.data.keys())"
   ]
  },
  {
   "cell_type": "code",
   "execution_count": null,
   "id": "068d7330-cf32-4e10-8205-cd47496d5d80",
   "metadata": {},
   "outputs": [],
   "source": [
    "# add_graphic_overlay_from_stcs demo\n",
    "poly = \"POLYGON ICRS 269.986903302 65.984279763 269.986696947 66.107243454 269.676617336 66.107210320 269.679951241 65.984356587\"\n",
    "\n",
    "mast_aladin.target = \"269.999666,65.9000833\"\n",
    "stcs_example = mast_aladin.add_graphic_overlay_from_stcs(poly, name = \"polygon\")\n",
    "print(mast_aladin._overlays_dict.keys())\n",
    "print(\"overlay name:\", stcs_example.name)\n",
    "print(\"overlay type:\", stcs_example.type)\n",
    "print(\"overlay options:\", stcs_example.options)\n",
    "print(\"overlay data info:\", stcs_example.data.keys())"
   ]
  },
  {
   "cell_type": "code",
   "execution_count": null,
   "id": "a874fc15-919f-440a-bc4d-8f2fb3faba79",
   "metadata": {},
   "outputs": [],
   "source": [
    "mast_aladin.remove_overlay(\"polygon\")\n",
    "mast_aladin._overlays_dict.keys()"
   ]
  },
  {
   "cell_type": "code",
   "execution_count": null,
   "id": "aadd0c4f-f197-4f2e-8d14-871f88e74537",
   "metadata": {},
   "outputs": [],
   "source": []
  }
 ],
 "metadata": {
  "kernelspec": {
   "display_name": "Python 3 (ipykernel)",
   "language": "python",
   "name": "python3"
  },
  "language_info": {
   "codemirror_mode": {
    "name": "ipython",
    "version": 3
   },
   "file_extension": ".py",
   "mimetype": "text/x-python",
   "name": "python",
   "nbconvert_exporter": "python",
   "pygments_lexer": "ipython3",
   "version": "3.11.11"
  }
 },
 "nbformat": 4,
 "nbformat_minor": 5
}
