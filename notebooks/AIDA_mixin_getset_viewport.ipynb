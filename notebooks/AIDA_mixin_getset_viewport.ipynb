{
 "cells": [
  {
   "cell_type": "markdown",
   "id": "83ecc6e3-bfa1-45bc-a762-69e0a0ef4105",
   "metadata": {},
   "source": [
    "## AIDA Mixin Demo"
   ]
  },
  {
   "cell_type": "code",
   "execution_count": 11,
   "id": "99e4b674-0390-46cc-aa18-ff4325b0a2b4",
   "metadata": {
    "scrolled": true
   },
   "outputs": [
    {
     "name": "stdout",
     "output_type": "stream",
     "text": [
      "Collecting git+https://github.com/cpparts/ipyaladin.git@CST-248-orientation_investigation\n",
      "  Cloning https://github.com/cpparts/ipyaladin.git (to revision CST-248-orientation_investigation) to /private/var/folders/cd/8vs02fp96zqcczk42mnmsqym0005z7/T/pip-req-build-upxesnp4\n",
      "  Running command git clone --filter=blob:none --quiet https://github.com/cpparts/ipyaladin.git /private/var/folders/cd/8vs02fp96zqcczk42mnmsqym0005z7/T/pip-req-build-upxesnp4\n",
      "  Running command git checkout -b CST-248-orientation_investigation --track origin/CST-248-orientation_investigation\n",
      "  Switched to a new branch 'CST-248-orientation_investigation'\n",
      "  branch 'CST-248-orientation_investigation' set up to track 'origin/CST-248-orientation_investigation'.\n",
      "  Resolved https://github.com/cpparts/ipyaladin.git to commit 58caaaac1095a73aa65de841d65152c616067441\n",
      "  Installing build dependencies ... \u001b[?2done\n",
      "\u001b[?25h  Getting requirements to build wheel ... \u001b[?25ldone\n",
      "\u001b[?25h  Installing backend dependencies ... \u001b[?2done\n",
      "\u001b[?25h  Preparing metadata (pyproject.toml) ... \u001b[?2done\n",
      "\u001b[?25hRequirement already satisfied: anywidget in /Users/cparts/miniconda3/envs/mast-aladin-lite/lib/python3.11/site-packages (from ipyaladin==0.6.0) (0.9.15)\n",
      "Requirement already satisfied: astropy in /Users/cparts/miniconda3/envs/mast-aladin-lite/lib/python3.11/site-packages (from ipyaladin==0.6.0) (7.0.1)\n",
      "Requirement already satisfied: ipywidgets>=7.6.0 in /Users/cparts/miniconda3/envs/mast-aladin-lite/lib/python3.11/site-packages (from anywidget->ipyaladin==0.6.0) (8.1.5)\n",
      "Requirement already satisfied: psygnal>=0.8.1 in /Users/cparts/miniconda3/envs/mast-aladin-lite/lib/python3.11/site-packages (from anywidget->ipyaladin==0.6.0) (0.12.0)\n",
      "Requirement already satisfied: typing-extensions>=4.2.0 in /Users/cparts/miniconda3/envs/mast-aladin-lite/lib/python3.11/site-packages (from anywidget->ipyaladin==0.6.0) (4.12.2)\n",
      "Requirement already satisfied: numpy>=1.23.2 in /Users/cparts/miniconda3/envs/mast-aladin-lite/lib/python3.11/site-packages (from astropy->ipyaladin==0.6.0) (2.2.3)\n",
      "Requirement already satisfied: pyerfa>=2.0.1.1 in /Users/cparts/miniconda3/envs/mast-aladin-lite/lib/python3.11/site-packages (from astropy->ipyaladin==0.6.0) (2.0.1.5)\n",
      "Requirement already satisfied: astropy-iers-data>=0.2025.1.31.12.41.4 in /Users/cparts/miniconda3/envs/mast-aladin-lite/lib/python3.11/site-packages (from astropy->ipyaladin==0.6.0) (0.2025.3.10.0.29.26)\n",
      "Requirement already satisfied: PyYAML>=6.0.0 in /Users/cparts/miniconda3/envs/mast-aladin-lite/lib/python3.11/site-packages (from astropy->ipyaladin==0.6.0) (6.0.2)\n",
      "Requirement already satisfied: packaging>=22.0.0 in /Users/cparts/miniconda3/envs/mast-aladin-lite/lib/python3.11/site-packages (from astropy->ipyaladin==0.6.0) (24.2)\n",
      "Requirement already satisfied: comm>=0.1.3 in /Users/cparts/miniconda3/envs/mast-aladin-lite/lib/python3.11/site-packages (from ipywidgets>=7.6.0->anywidget->ipyaladin==0.6.0) (0.2.2)\n",
      "Requirement already satisfied: ipython>=6.1.0 in /Users/cparts/miniconda3/envs/mast-aladin-lite/lib/python3.11/site-packages (from ipywidgets>=7.6.0->anywidget->ipyaladin==0.6.0) (8.32.0)\n",
      "Requirement already satisfied: traitlets>=4.3.1 in /Users/cparts/miniconda3/envs/mast-aladin-lite/lib/python3.11/site-packages (from ipywidgets>=7.6.0->anywidget->ipyaladin==0.6.0) (5.14.3)\n",
      "Requirement already satisfied: widgetsnbextension~=4.0.12 in /Users/cparts/miniconda3/envs/mast-aladin-lite/lib/python3.11/site-packages (from ipywidgets>=7.6.0->anywidget->ipyaladin==0.6.0) (4.0.13)\n",
      "Requirement already satisfied: jupyterlab-widgets~=3.0.12 in /Users/cparts/miniconda3/envs/mast-aladin-lite/lib/python3.11/site-packages (from ipywidgets>=7.6.0->anywidget->ipyaladin==0.6.0) (3.0.13)\n",
      "Requirement already satisfied: decorator in /Users/cparts/miniconda3/envs/mast-aladin-lite/lib/python3.11/site-packages (from ipython>=6.1.0->ipywidgets>=7.6.0->anywidget->ipyaladin==0.6.0) (5.2.1)\n",
      "Requirement already satisfied: jedi>=0.16 in /Users/cparts/miniconda3/envs/mast-aladin-lite/lib/python3.11/site-packages (from ipython>=6.1.0->ipywidgets>=7.6.0->anywidget->ipyaladin==0.6.0) (0.19.2)\n",
      "Requirement already satisfied: matplotlib-inline in /Users/cparts/miniconda3/envs/mast-aladin-lite/lib/python3.11/site-packages (from ipython>=6.1.0->ipywidgets>=7.6.0->anywidget->ipyaladin==0.6.0) (0.1.7)\n",
      "Requirement already satisfied: pexpect>4.3 in /Users/cparts/miniconda3/envs/mast-aladin-lite/lib/python3.11/site-packages (from ipython>=6.1.0->ipywidgets>=7.6.0->anywidget->ipyaladin==0.6.0) (4.9.0)\n",
      "Requirement already satisfied: prompt_toolkit<3.1.0,>=3.0.41 in /Users/cparts/miniconda3/envs/mast-aladin-lite/lib/python3.11/site-packages (from ipython>=6.1.0->ipywidgets>=7.6.0->anywidget->ipyaladin==0.6.0) (3.0.50)\n",
      "Requirement already satisfied: pygments>=2.4.0 in /Users/cparts/miniconda3/envs/mast-aladin-lite/lib/python3.11/site-packages (from ipython>=6.1.0->ipywidgets>=7.6.0->anywidget->ipyaladin==0.6.0) (2.19.1)\n",
      "Requirement already satisfied: stack_data in /Users/cparts/miniconda3/envs/mast-aladin-lite/lib/python3.11/site-packages (from ipython>=6.1.0->ipywidgets>=7.6.0->anywidget->ipyaladin==0.6.0) (0.6.3)\n",
      "Requirement already satisfied: parso<0.9.0,>=0.8.4 in /Users/cparts/miniconda3/envs/mast-aladin-lite/lib/python3.11/site-packages (from jedi>=0.16->ipython>=6.1.0->ipywidgets>=7.6.0->anywidget->ipyaladin==0.6.0) (0.8.4)\n",
      "Requirement already satisfied: ptyprocess>=0.5 in /Users/cparts/miniconda3/envs/mast-aladin-lite/lib/python3.11/site-packages (from pexpect>4.3->ipython>=6.1.0->ipywidgets>=7.6.0->anywidget->ipyaladin==0.6.0) (0.7.0)\n",
      "Requirement already satisfied: wcwidth in /Users/cparts/miniconda3/envs/mast-aladin-lite/lib/python3.11/site-packages (from prompt_toolkit<3.1.0,>=3.0.41->ipython>=6.1.0->ipywidgets>=7.6.0->anywidget->ipyaladin==0.6.0) (0.2.13)\n",
      "Requirement already satisfied: executing>=1.2.0 in /Users/cparts/miniconda3/envs/mast-aladin-lite/lib/python3.11/site-packages (from stack_data->ipython>=6.1.0->ipywidgets>=7.6.0->anywidget->ipyaladin==0.6.0) (2.2.0)\n",
      "Requirement already satisfied: asttokens>=2.1.0 in /Users/cparts/miniconda3/envs/mast-aladin-lite/lib/python3.11/site-packages (from stack_data->ipython>=6.1.0->ipywidgets>=7.6.0->anywidget->ipyaladin==0.6.0) (3.0.0)\n",
      "Requirement already satisfied: pure-eval in /Users/cparts/miniconda3/envs/mast-aladin-lite/lib/python3.11/site-packages (from stack_data->ipython>=6.1.0->ipywidgets>=7.6.0->anywidget->ipyaladin==0.6.0) (0.2.3)\n",
      "Building wheels for collected packages: ipyaladin\n",
      "  Building wheel for ipyaladin (pyproject.toml) ... \u001b[?25ldone\n",
      "\u001b[?25h  Created wheel for ipyaladin: filename=ipyaladin-0.6.0-py3-none-any.whl size=23579 sha256=81ef08ba344725ebb548ed87c4ad309c4e21bdf9f0f09c0bee94ad784a806e79\n",
      "  Stored in directory: /private/var/folders/cd/8vs02fp96zqcczk42mnmsqym0005z7/T/pip-ephem-wheel-cache-qwu8qww8/wheels/27/6c/95/2b902b93b93936cc16483dd32c35bbd0bd7c8daba49a789181\n",
      "Successfully built ipyaladin\n",
      "Installing collected packages: ipyaladin\n",
      "  Attempting uninstall: ipyaladin\n",
      "    Found existing installation: ipyaladin 0.5.2\n",
      "    Uninstalling ipyaladin-0.5.2:\n",
      "      Successfully uninstalled ipyaladin-0.5.2\n",
      "Successfully installed ipyaladin-0.6.0\n",
      "Note: you may need to restart the kernel to use updated packages.\n"
     ]
    }
   ],
   "source": [
    "pip install git+https://github.com/cpparts/ipyaladin.git@CST-248-orientation_investigation"
   ]
  },
  {
   "cell_type": "code",
   "execution_count": 6,
   "id": "bb7ade2f-f073-411f-89ae-730094092eab",
   "metadata": {
    "scrolled": true
   },
   "outputs": [
    {
     "data": {
      "application/vnd.jupyter.widget-view+json": {
       "model_id": "b52c0af7c5cb4848b77383c43c2e98bc",
       "version_major": 2,
       "version_minor": 1
      },
      "text/plain": [
       "MastAladin()"
      ]
     },
     "execution_count": 6,
     "metadata": {},
     "output_type": "execute_result"
    }
   ],
   "source": [
    "from mast_aladin_lite import MastAladin\n",
    "from astropy.coordinates import SkyCoord, Angle\n",
    "\n",
    "# Initializing with target loc set using ipyaladin method\n",
    "mast_aladin = MastAladin(\n",
    "    target = \"269.999666,65.9000833\",\n",
    "    zoom = 2,\n",
    ")\n",
    "mast_aladin"
   ]
  },
  {
   "cell_type": "code",
   "execution_count": 7,
   "id": "65f31e74-c021-4595-b100-950d8d789871",
   "metadata": {},
   "outputs": [],
   "source": [
    "# Adding a footprint for easy visual reference of functionality\n",
    "# aladin-lite can load a footprint from an STC-S string like this one:\n",
    "stcs_string = \"POLYGON ICRS 269.986903302 65.984279763 269.986696947 66.107243454 269.676617336 66.107210320 269.679951241 65.984356587\"\n",
    "mast_aladin.add_graphic_overlay_from_stcs(stcs_string)"
   ]
  },
  {
   "cell_type": "code",
   "execution_count": 8,
   "id": "7859ba85-5e06-436e-ba4a-ca2fa122be3e",
   "metadata": {},
   "outputs": [],
   "source": [
    "# Recentering on corner of earlier polygon\n",
    "mast_aladin.aid.set_viewport(\n",
    "    SkyCoord(269.986903302, 65.984279763, unit=\"deg\"),\n",
    "    Angle(0, unit=\"deg\"),\n",
    ")"
   ]
  },
  {
   "cell_type": "code",
   "execution_count": 9,
   "id": "8f22cc7a-78b0-4d64-adff-3738d5e0bdc1",
   "metadata": {},
   "outputs": [
    {
     "data": {
      "text/plain": [
       "{'center': <SkyCoord (ICRS): (ra, dec) in deg\n",
       "     (269.9869033, 65.98427976)>,\n",
       " 'rotation': <Angle 0. deg>,\n",
       " 'fov': <Angle 2. deg>,\n",
       " 'image_label': None}"
      ]
     },
     "execution_count": 9,
     "metadata": {},
     "output_type": "execute_result"
    }
   ],
   "source": [
    "# Get this viewport state for later\n",
    "viewport_state = mast_aladin.aid.get_viewport()\n",
    "viewport_state"
   ]
  },
  {
   "cell_type": "code",
   "execution_count": 13,
   "id": "70e93217-6e72-4fa0-8562-a5bd43c911db",
   "metadata": {},
   "outputs": [],
   "source": [
    "# Center the viewer on RA=0 deg, Dec=0 deg, set rotation to 180 deg\n",
    "mast_aladin.aid.set_viewport(\n",
    "    center=SkyCoord(0,0, unit=\"deg\"),\n",
    "    rotation=Angle(180, unit=\"deg\")\n",
    ")"
   ]
  },
  {
   "cell_type": "code",
   "execution_count": 15,
   "id": "e88af4a3-0232-47a9-81a5-18396f2415e4",
   "metadata": {},
   "outputs": [],
   "source": [
    "# Now, let's return the viewport to the state that centers on the corner of the eartlier polygon\n",
    "mast_aladin.aid.set_viewport(\n",
    "    viewport_state[\"center\"],\n",
    "    viewport_state[\"rotation\"],\n",
    ")"
   ]
  },
  {
   "cell_type": "code",
   "execution_count": 16,
   "id": "a5210b2e-3c03-4e9d-877e-7d2bbcb54452",
   "metadata": {},
   "outputs": [
    {
     "ename": "NotImplementedError",
     "evalue": "aladin-lite is a HiPS viewer without a concept of pixels.`sky_or_pixel` must be set to 'sky' or `None`",
     "output_type": "error",
     "traceback": [
      "\u001b[0;31m---------------------------------------------------------------------------\u001b[0m",
      "\u001b[0;31mNotImplementedError\u001b[0m                       Traceback (most recent call last)",
      "Cell \u001b[0;32mIn[16], line 2\u001b[0m\n\u001b[1;32m      1\u001b[0m \u001b[38;5;66;03m# Raises NotImplementedError since aladin-lite has no concept of pixels\u001b[39;00m\n\u001b[0;32m----> 2\u001b[0m \u001b[43mmast_aladin\u001b[49m\u001b[38;5;241;43m.\u001b[39;49m\u001b[43maid\u001b[49m\u001b[38;5;241;43m.\u001b[39;49m\u001b[43mget_viewport\u001b[49m\u001b[43m(\u001b[49m\u001b[43msky_or_pixel\u001b[49m\u001b[38;5;241;43m=\u001b[39;49m\u001b[38;5;124;43m\"\u001b[39;49m\u001b[38;5;124;43mpixel\u001b[39;49m\u001b[38;5;124;43m\"\u001b[39;49m\u001b[43m)\u001b[49m\n",
      "File \u001b[0;32m~/repos/mast-aladin-lite/mast_aladin_lite/aida.py:98\u001b[0m, in \u001b[0;36mAID.get_viewport\u001b[0;34m(self, sky_or_pixel, image_label)\u001b[0m\n\u001b[1;32m     62\u001b[0m \u001b[38;5;250m\u001b[39m\u001b[38;5;124;03m\"\"\"\u001b[39;00m\n\u001b[1;32m     63\u001b[0m \u001b[38;5;124;03mGets the viewport center, rotation, and field of view.\u001b[39;00m\n\u001b[1;32m     64\u001b[0m \n\u001b[0;32m   (...)\u001b[0m\n\u001b[1;32m     94\u001b[0m \n\u001b[1;32m     95\u001b[0m \u001b[38;5;124;03m\"\"\"\u001b[39;00m\n\u001b[1;32m     97\u001b[0m \u001b[38;5;28;01mif\u001b[39;00m sky_or_pixel \u001b[38;5;241m!=\u001b[39m \u001b[38;5;124m\"\u001b[39m\u001b[38;5;124msky\u001b[39m\u001b[38;5;124m\"\u001b[39m \u001b[38;5;129;01mand\u001b[39;00m sky_or_pixel \u001b[38;5;129;01mis\u001b[39;00m \u001b[38;5;129;01mnot\u001b[39;00m \u001b[38;5;28;01mNone\u001b[39;00m:\n\u001b[0;32m---> 98\u001b[0m     \u001b[38;5;28;01mraise\u001b[39;00m \u001b[38;5;167;01mNotImplementedError\u001b[39;00m(\n\u001b[1;32m     99\u001b[0m         \u001b[38;5;124m\"\u001b[39m\u001b[38;5;124maladin-lite is a HiPS viewer without a concept of pixels.\u001b[39m\u001b[38;5;124m\"\u001b[39m\n\u001b[1;32m    100\u001b[0m         \u001b[38;5;124m\"\u001b[39m\u001b[38;5;124m`sky_or_pixel` must be set to \u001b[39m\u001b[38;5;124m'\u001b[39m\u001b[38;5;124msky\u001b[39m\u001b[38;5;124m'\u001b[39m\u001b[38;5;124m or `None`\u001b[39m\u001b[38;5;124m\"\u001b[39m\n\u001b[1;32m    101\u001b[0m     )\n\u001b[1;32m    103\u001b[0m \u001b[38;5;28;01mif\u001b[39;00m image_label \u001b[38;5;129;01mis\u001b[39;00m \u001b[38;5;129;01mnot\u001b[39;00m \u001b[38;5;28;01mNone\u001b[39;00m:\n\u001b[1;32m    104\u001b[0m     \u001b[38;5;28;01mraise\u001b[39;00m \u001b[38;5;167;01mNotImplementedError\u001b[39;00m(\n\u001b[1;32m    105\u001b[0m         \u001b[38;5;124m\"\u001b[39m\u001b[38;5;124maladin-lite only shows one \u001b[39m\u001b[38;5;124m'\u001b[39m\u001b[38;5;124mimage\u001b[39m\u001b[38;5;124m'\u001b[39m\u001b[38;5;124m per viewer, and does not need\u001b[39m\u001b[38;5;124m\"\u001b[39m\n\u001b[1;32m    106\u001b[0m         \u001b[38;5;124m\"\u001b[39m\u001b[38;5;124mthe concept of labels. `image_label` must be set to `None`.\u001b[39m\u001b[38;5;124m\"\u001b[39m\n\u001b[1;32m    107\u001b[0m     )\n",
      "\u001b[0;31mNotImplementedError\u001b[0m: aladin-lite is a HiPS viewer without a concept of pixels.`sky_or_pixel` must be set to 'sky' or `None`"
     ]
    }
   ],
   "source": [
    "# Raises NotImplementedError since aladin-lite has no concept of pixels\n",
    "mast_aladin.aid.get_viewport(sky_or_pixel=\"pixel\")"
   ]
  },
  {
   "cell_type": "code",
   "execution_count": 17,
   "id": "764042c6-8292-42e2-ab4e-a5604aae2b76",
   "metadata": {},
   "outputs": [
    {
     "ename": "NotImplementedError",
     "evalue": "aladin-lite only shows one 'image' per viewer, and does not needthe concept of labels. `image_label` must be set to `None`.",
     "output_type": "error",
     "traceback": [
      "\u001b[0;31m---------------------------------------------------------------------------\u001b[0m",
      "\u001b[0;31mNotImplementedError\u001b[0m                       Traceback (most recent call last)",
      "Cell \u001b[0;32mIn[17], line 2\u001b[0m\n\u001b[1;32m      1\u001b[0m \u001b[38;5;66;03m# Raises NotImplementedError since aladin-lite only shows one image and has no concept of labels\u001b[39;00m\n\u001b[0;32m----> 2\u001b[0m \u001b[43mmast_aladin\u001b[49m\u001b[38;5;241;43m.\u001b[39;49m\u001b[43maid\u001b[49m\u001b[38;5;241;43m.\u001b[39;49m\u001b[43mget_viewport\u001b[49m\u001b[43m(\u001b[49m\u001b[43mimage_label\u001b[49m\u001b[43m \u001b[49m\u001b[38;5;241;43m=\u001b[39;49m\u001b[43m \u001b[49m\u001b[38;5;124;43m\"\u001b[39;49m\u001b[38;5;124;43mimage1\u001b[39;49m\u001b[38;5;124;43m\"\u001b[39;49m\u001b[43m)\u001b[49m\n",
      "File \u001b[0;32m~/repos/mast-aladin-lite/mast_aladin_lite/aida.py:104\u001b[0m, in \u001b[0;36mAID.get_viewport\u001b[0;34m(self, sky_or_pixel, image_label)\u001b[0m\n\u001b[1;32m     98\u001b[0m     \u001b[38;5;28;01mraise\u001b[39;00m \u001b[38;5;167;01mNotImplementedError\u001b[39;00m(\n\u001b[1;32m     99\u001b[0m         \u001b[38;5;124m\"\u001b[39m\u001b[38;5;124maladin-lite is a HiPS viewer without a concept of pixels.\u001b[39m\u001b[38;5;124m\"\u001b[39m\n\u001b[1;32m    100\u001b[0m         \u001b[38;5;124m\"\u001b[39m\u001b[38;5;124m`sky_or_pixel` must be set to \u001b[39m\u001b[38;5;124m'\u001b[39m\u001b[38;5;124msky\u001b[39m\u001b[38;5;124m'\u001b[39m\u001b[38;5;124m or `None`\u001b[39m\u001b[38;5;124m\"\u001b[39m\n\u001b[1;32m    101\u001b[0m     )\n\u001b[1;32m    103\u001b[0m \u001b[38;5;28;01mif\u001b[39;00m image_label \u001b[38;5;129;01mis\u001b[39;00m \u001b[38;5;129;01mnot\u001b[39;00m \u001b[38;5;28;01mNone\u001b[39;00m:\n\u001b[0;32m--> 104\u001b[0m     \u001b[38;5;28;01mraise\u001b[39;00m \u001b[38;5;167;01mNotImplementedError\u001b[39;00m(\n\u001b[1;32m    105\u001b[0m         \u001b[38;5;124m\"\u001b[39m\u001b[38;5;124maladin-lite only shows one \u001b[39m\u001b[38;5;124m'\u001b[39m\u001b[38;5;124mimage\u001b[39m\u001b[38;5;124m'\u001b[39m\u001b[38;5;124m per viewer, and does not need\u001b[39m\u001b[38;5;124m\"\u001b[39m\n\u001b[1;32m    106\u001b[0m         \u001b[38;5;124m\"\u001b[39m\u001b[38;5;124mthe concept of labels. `image_label` must be set to `None`.\u001b[39m\u001b[38;5;124m\"\u001b[39m\n\u001b[1;32m    107\u001b[0m     )\n\u001b[1;32m    109\u001b[0m viewport_state \u001b[38;5;241m=\u001b[39m \u001b[38;5;28mdict\u001b[39m(\n\u001b[1;32m    110\u001b[0m     center\u001b[38;5;241m=\u001b[39m\u001b[38;5;28mself\u001b[39m\u001b[38;5;241m.\u001b[39mapp\u001b[38;5;241m.\u001b[39mtarget,\n\u001b[1;32m    111\u001b[0m     rotation\u001b[38;5;241m=\u001b[39m\u001b[38;5;28mself\u001b[39m\u001b[38;5;241m.\u001b[39mapp\u001b[38;5;241m.\u001b[39mrotation,\n\u001b[1;32m    112\u001b[0m     fov\u001b[38;5;241m=\u001b[39m\u001b[38;5;28mself\u001b[39m\u001b[38;5;241m.\u001b[39mapp\u001b[38;5;241m.\u001b[39mfov,\n\u001b[1;32m    113\u001b[0m     image_label\u001b[38;5;241m=\u001b[39m\u001b[38;5;28;01mNone\u001b[39;00m\n\u001b[1;32m    114\u001b[0m )\n\u001b[1;32m    116\u001b[0m \u001b[38;5;28;01mreturn\u001b[39;00m viewport_state\n",
      "\u001b[0;31mNotImplementedError\u001b[0m: aladin-lite only shows one 'image' per viewer, and does not needthe concept of labels. `image_label` must be set to `None`."
     ]
    }
   ],
   "source": [
    "# Raises NotImplementedError since aladin-lite only shows one image and has no concept of labels\n",
    "mast_aladin.aid.get_viewport(image_label = \"image1\")"
   ]
  },
  {
   "cell_type": "code",
   "execution_count": 18,
   "id": "94f53f5a-f948-4ba6-bd2e-09c130c9c230",
   "metadata": {},
   "outputs": [
    {
     "data": {
      "text/plain": [
       "\u001b[0;31mSignature:\u001b[0m \u001b[0mmast_aladin\u001b[0m\u001b[0;34m.\u001b[0m\u001b[0maid\u001b[0m\u001b[0;34m.\u001b[0m\u001b[0mget_viewport\u001b[0m\u001b[0;34m(\u001b[0m\u001b[0msky_or_pixel\u001b[0m\u001b[0;34m=\u001b[0m\u001b[0;34m'sky'\u001b[0m\u001b[0;34m,\u001b[0m \u001b[0mimage_label\u001b[0m\u001b[0;34m=\u001b[0m\u001b[0;32mNone\u001b[0m\u001b[0;34m)\u001b[0m\u001b[0;34m\u001b[0m\u001b[0;34m\u001b[0m\u001b[0m\n",
       "\u001b[0;31mDocstring:\u001b[0m\n",
       "Gets the viewport center, rotation, and field of view.\n",
       "\n",
       "Parameters\n",
       "----------\n",
       "sky_or_pixel : str, optional\n",
       "    If `\"sky\"` or `None`, the viewport center and field of view will be returned\n",
       "    in world coordinates. `\"pixel\"` is not supported for HiPS viewers.\n",
       "image_label : str, optional\n",
       "    `image_label` is a required argument for ``AID`` API compatibility,\n",
       "    but it is not relevant for HiPS browsers like aladin-lite. If not\n",
       "    `None`, an error will be raised.\n",
       "\n",
       "Returns\n",
       "-------\n",
       "dict\n",
       "    A dictionary containing:\n",
       "    - center : `~astropy.coordinates.SkyCoord`\n",
       "        Center the viewer on this coordinate.\n",
       "    - rotation : `~astropy.coordinates.Angle`\n",
       "        Angle of the view center to north pole angle in degrees.\n",
       "    - fov : `~astropy.coordinates.Angle`\n",
       "        An object representing the field of view.\n",
       "    - image_label: None\n",
       "        A string representing the label of the image, always `None`\n",
       "        for aladin-lite.\n",
       "\n",
       "Raises\n",
       "------\n",
       "NotImplementedError\n",
       "    Given `sky_or_pixel` is not \"sky\" or `None`.\n",
       "    Given `image_label` is not `None`.\n",
       "\u001b[0;31mFile:\u001b[0m      ~/repos/mast-aladin-lite/mast_aladin_lite/aida.py\n",
       "\u001b[0;31mType:\u001b[0m      method"
      ]
     },
     "metadata": {},
     "output_type": "display_data"
    }
   ],
   "source": [
    "mast_aladin.aid.get_viewport?"
   ]
  },
  {
   "cell_type": "code",
   "execution_count": null,
   "id": "054094e7-22e0-47fd-8472-2f2b205bb7a8",
   "metadata": {},
   "outputs": [],
   "source": []
  }
 ],
 "metadata": {
  "kernelspec": {
   "display_name": "Python 3 (ipykernel)",
   "language": "python",
   "name": "python3"
  },
  "language_info": {
   "codemirror_mode": {
    "name": "ipython",
    "version": 3
   },
   "file_extension": ".py",
   "mimetype": "text/x-python",
   "name": "python",
   "nbconvert_exporter": "python",
   "pygments_lexer": "ipython3",
   "version": "3.11.11"
  }
 },
 "nbformat": 4,
 "nbformat_minor": 5
}
