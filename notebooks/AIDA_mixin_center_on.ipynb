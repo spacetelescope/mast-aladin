{
 "cells": [
  {
   "cell_type": "markdown",
   "id": "83ecc6e3-bfa1-45bc-a762-69e0a0ef4105",
   "metadata": {},
   "source": [
    "## AIDA Mixin Demo"
   ]
  },
  {
   "cell_type": "code",
   "execution_count": null,
   "id": "bb7ade2f-f073-411f-89ae-730094092eab",
   "metadata": {},
   "outputs": [
    {
     "data": {
      "application/vnd.jupyter.widget-view+json": {
       "model_id": "eacf6bd7c8554201804abfb57ef41995",
       "version_major": 2,
       "version_minor": 1
      },
      "text/plain": [
       "MastAladin()"
      ]
     },
     "execution_count": 26,
     "metadata": {},
     "output_type": "execute_result"
    }
   ],
   "source": [
    "from mast_aladin_lite import MastAladin\n",
    "from astropy.coordinates import SkyCoord\n",
    "\n",
    "# Initializing with target loc set using ipyaladin method\n",
    "mast_aladin = MastAladin(\n",
    "    target= \"17 59 59.92 +65 54 00.3\",\n",
    "    zoom = 2\n",
    ")\n",
    "mast_aladin"
   ]
  },
  {
   "cell_type": "code",
   "execution_count": 27,
   "id": "65f31e74-c021-4595-b100-950d8d789871",
   "metadata": {},
   "outputs": [],
   "source": [
    "# Adding a footprint for easy visual reference of functionality\n",
    "mast_aladin.add_graphic_overlay_from_stcs(\"POLYGON ICRS 269.986903302 65.984279763 269.986696947 66.107243454 269.676617336 66.107210320 269.679951241 65.984356587\")"
   ]
  },
  {
   "cell_type": "code",
   "execution_count": null,
   "id": "b9a592da-0b4a-4524-9923-4397590fb86b",
   "metadata": {},
   "outputs": [],
   "source": [
    "# Centering on 0,0, defines the var as point (matching jdaviz convention)\n",
    "mast_aladin.aid.center_on(point=SkyCoord(0,0, unit=\"deg\"))"
   ]
  },
  {
   "cell_type": "code",
   "execution_count": null,
   "id": "a6937997-1030-476e-a34a-9074ef7015a2",
   "metadata": {},
   "outputs": [],
   "source": [
    "# Recentering on corner of earlier polygon\n",
    "mast_aladin.aid.center_on(SkyCoord(269.986903302, 65.984279763, unit=\"deg\"))"
   ]
  },
  {
   "cell_type": "code",
   "execution_count": null,
   "id": "a5210b2e-3c03-4e9d-877e-7d2bbcb54452",
   "metadata": {},
   "outputs": [
    {
     "ename": "NotImplementedError",
     "evalue": "",
     "output_type": "error",
     "traceback": [
      "\u001b[0;31m---------------------------------------------------------------------------\u001b[0m",
      "\u001b[0;31mNotImplementedError\u001b[0m                       Traceback (most recent call last)",
      "Cell \u001b[0;32mIn[30], line 2\u001b[0m\n\u001b[1;32m      1\u001b[0m \u001b[38;5;66;03m# raises NotImplementedError since did not provide SkyCoord\u001b[39;00m\n\u001b[0;32m----> 2\u001b[0m \u001b[43mmast_aladin\u001b[49m\u001b[38;5;241;43m.\u001b[39;49m\u001b[43maid\u001b[49m\u001b[38;5;241;43m.\u001b[39;49m\u001b[43mcenter_on\u001b[49m\u001b[43m(\u001b[49m\u001b[43mpoint\u001b[49m\u001b[38;5;241;43m=\u001b[39;49m\u001b[38;5;124;43m\"\u001b[39;49m\u001b[38;5;124;43m0 0\u001b[39;49m\u001b[38;5;124;43m\"\u001b[39;49m\u001b[43m)\u001b[49m\n",
      "File \u001b[0;32m~/repos/mast-aladin-lite/mast_aladin_lite/aida.py:31\u001b[0m, in \u001b[0;36mAID.center_on\u001b[0;34m(self, point)\u001b[0m\n\u001b[1;32m     27\u001b[0m \u001b[38;5;66;03m# add check the coords are instance of sky coords, raise warning if not\u001b[39;00m\n\u001b[1;32m     28\u001b[0m \u001b[38;5;66;03m# common APIs method only takes center on\u001b[39;00m\n\u001b[1;32m     30\u001b[0m \u001b[38;5;28;01mif\u001b[39;00m \u001b[38;5;129;01mnot\u001b[39;00m \u001b[38;5;28misinstance\u001b[39m(point, SkyCoord):\n\u001b[0;32m---> 31\u001b[0m     \u001b[38;5;28;01mraise\u001b[39;00m \u001b[38;5;167;01mNotImplementedError\u001b[39;00m\n\u001b[1;32m     33\u001b[0m \u001b[38;5;28mself\u001b[39m\u001b[38;5;241m.\u001b[39mapp\u001b[38;5;241m.\u001b[39mtarget \u001b[38;5;241m=\u001b[39m point\n",
      "\u001b[0;31mNotImplementedError\u001b[0m: "
     ]
    }
   ],
   "source": [
    "# Raises NotImplementedError since did not provide SkyCoord\n",
    "mast_aladin.aid.center_on(point=\"0 0\")"
   ]
  },
  {
   "cell_type": "code",
   "execution_count": null,
   "id": "764042c6-8292-42e2-ab4e-a5604aae2b76",
   "metadata": {},
   "outputs": [
    {
     "ename": "NotImplementedError",
     "evalue": "",
     "output_type": "error",
     "traceback": [
      "\u001b[0;31m---------------------------------------------------------------------------\u001b[0m",
      "\u001b[0;31mNotImplementedError\u001b[0m                       Traceback (most recent call last)",
      "Cell \u001b[0;32mIn[31], line 2\u001b[0m\n\u001b[1;32m      1\u001b[0m \u001b[38;5;66;03m# raises NotImplementedError since did not provide SkyCoord\u001b[39;00m\n\u001b[0;32m----> 2\u001b[0m \u001b[43mmast_aladin\u001b[49m\u001b[38;5;241;43m.\u001b[39;49m\u001b[43maid\u001b[49m\u001b[38;5;241;43m.\u001b[39;49m\u001b[43mcenter_on\u001b[49m\u001b[43m(\u001b[49m\u001b[38;5;124;43m\"\u001b[39;49m\u001b[38;5;124;43m17 59 59.92 +65 54 00.3\u001b[39;49m\u001b[38;5;124;43m\"\u001b[39;49m\u001b[43m)\u001b[49m\n",
      "File \u001b[0;32m~/repos/mast-aladin-lite/mast_aladin_lite/aida.py:31\u001b[0m, in \u001b[0;36mAID.center_on\u001b[0;34m(self, point)\u001b[0m\n\u001b[1;32m     27\u001b[0m \u001b[38;5;66;03m# add check the coords are instance of sky coords, raise warning if not\u001b[39;00m\n\u001b[1;32m     28\u001b[0m \u001b[38;5;66;03m# common APIs method only takes center on\u001b[39;00m\n\u001b[1;32m     30\u001b[0m \u001b[38;5;28;01mif\u001b[39;00m \u001b[38;5;129;01mnot\u001b[39;00m \u001b[38;5;28misinstance\u001b[39m(point, SkyCoord):\n\u001b[0;32m---> 31\u001b[0m     \u001b[38;5;28;01mraise\u001b[39;00m \u001b[38;5;167;01mNotImplementedError\u001b[39;00m\n\u001b[1;32m     33\u001b[0m \u001b[38;5;28mself\u001b[39m\u001b[38;5;241m.\u001b[39mapp\u001b[38;5;241m.\u001b[39mtarget \u001b[38;5;241m=\u001b[39m point\n",
      "\u001b[0;31mNotImplementedError\u001b[0m: "
     ]
    }
   ],
   "source": [
    "# Raises NotImplementedError since did not provide SkyCoord\n",
    "mast_aladin.aid.center_on(\"17 59 59.92 +65 54 00.3\")"
   ]
  },
  {
   "cell_type": "code",
   "execution_count": 32,
   "id": "94f53f5a-f948-4ba6-bd2e-09c130c9c230",
   "metadata": {},
   "outputs": [
    {
     "data": {
      "text/plain": [
       "\u001b[0;31mSignature:\u001b[0m \u001b[0mmast_aladin\u001b[0m\u001b[0;34m.\u001b[0m\u001b[0maid\u001b[0m\u001b[0;34m.\u001b[0m\u001b[0mcenter_on\u001b[0m\u001b[0;34m(\u001b[0m\u001b[0mpoint\u001b[0m\u001b[0;34m)\u001b[0m\u001b[0;34m\u001b[0m\u001b[0;34m\u001b[0m\u001b[0m\n",
       "\u001b[0;31mDocstring:\u001b[0m\n",
       "Centers the viewer on a particular point. \n",
       "\n",
       "Parameters\n",
       "----------\n",
       "point : `~astropy.coordinates.SkyCoord`\n",
       "\n",
       "Raises\n",
       "------\n",
       "NotImplementedError\n",
       "    Given coordinates are not provided as SkyCoord.\n",
       "\u001b[0;31mFile:\u001b[0m      ~/repos/mast-aladin-lite/mast_aladin_lite/aida.py\n",
       "\u001b[0;31mType:\u001b[0m      method"
      ]
     },
     "metadata": {},
     "output_type": "display_data"
    }
   ],
   "source": [
    "mast_aladin.aid.center_on?"
   ]
  },
  {
   "cell_type": "code",
   "execution_count": null,
   "id": "0918126e-bb6c-4f40-ac96-ddfab459bb79",
   "metadata": {},
   "outputs": [],
   "source": []
  }
 ],
 "metadata": {
  "kernelspec": {
   "display_name": "Python 3 (ipykernel)",
   "language": "python",
   "name": "python3"
  },
  "language_info": {
   "codemirror_mode": {
    "name": "ipython",
    "version": 3
   },
   "file_extension": ".py",
   "mimetype": "text/x-python",
   "name": "python",
   "nbconvert_exporter": "python",
   "pygments_lexer": "ipython3",
   "version": "3.11.11"
  }
 },
 "nbformat": 4,
 "nbformat_minor": 5
}
