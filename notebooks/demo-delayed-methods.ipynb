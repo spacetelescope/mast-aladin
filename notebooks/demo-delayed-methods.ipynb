{
 "cells": [
  {
   "cell_type": "markdown",
   "id": "9ffe879a-1d98-4498-9a63-1bf536f87be0",
   "metadata": {},
   "source": [
    "# Delaying ipyaladin methods until render\n",
    "\n",
    "`ipyaladin.Aladin` methods take no action if they are called when the widget has not been displayed \n",
    "\n",
    "In this demo, we use `MastAladin.delayed_*` methods to queue an update to the widget that will execute one time, once the widget has been displayed.\n",
    "\n",
    "The available `delayed` methods are: \n",
    "\n",
    "* `delayed_add_fits`\n",
    "* `delayed_add_table`      \n",
    "* `delayed_add_graphic_overlay_from_stcs`      \n",
    "* `delayed_add_graphic_overlay_from_region`      \n",
    "* `delayed_add_markers`      \n",
    "* `delayed_add_catalog_from_URL`      \n",
    "* `delayed_delayed_add_moc`\n"
   ]
  },
  {
   "cell_type": "code",
   "execution_count": null,
   "id": "1ea1acb7-2590-4d22-8a7e-db9d63459d19",
   "metadata": {},
   "outputs": [],
   "source": [
    "from mast_aladin_lite import MastAladin\n",
    "from astroquery.mast import MastMissions\n",
    "from astropy.io import fits\n",
    "\n",
    "\n",
    "# download JWST image of M4 from MAST:\n",
    "filename = 'jw01979002001_02201_00002_nis_rate.fits'\n",
    "uri = f'jw01979002001_02201_00002/{filename}'\n",
    "MastMissions(mission='jwst').download_file(uri)\n",
    "\n",
    "\n",
    "# extract the image's perimeter from the header\n",
    "s_region = fits.getheader(filename, ext=1)['S_REGION']\n",
    "\n",
    "\n",
    "# initialize MAL, add STC-S region and FITS images\n",
    "# using the `delayed_*` implementation\n",
    "mast_aladin = MastAladin()\n",
    "mast_aladin.delayed_add_graphic_overlay_from_stcs(s_region)\n",
    "mast_aladin.delayed_add_fits(filename)\n",
    "\n",
    "# don't display the widget yet!"
   ]
  },
  {
   "cell_type": "markdown",
   "id": "bfec52e1-8c32-458b-a525-e777e6a9fe9b",
   "metadata": {},
   "source": [
    "Now display the widget. Display will trigger the temporary callbacks to the `delayed_*` methods. "
   ]
  },
  {
   "cell_type": "code",
   "execution_count": null,
   "id": "7574835e-29f8-46d4-b1b6-637667f13bdd",
   "metadata": {},
   "outputs": [],
   "source": [
    "mast_aladin"
   ]
  },
  {
   "cell_type": "markdown",
   "id": "0395aaf4-9348-454b-951a-e2339de5f3d5",
   "metadata": {},
   "source": [
    "The widget is displayed and the FITS file and STC-S region graphic overlay are added once.\n",
    "\n",
    "<div class=\"alert alert-block alert-info\">\n",
    "    Note: you'll need to zoom in to see the image and its bounding region.\n",
    "</div>"
   ]
  },
  {
   "cell_type": "code",
   "execution_count": null,
   "id": "239c9286-4a19-4cfe-b15d-c106db71b941",
   "metadata": {},
   "outputs": [],
   "source": []
  }
 ],
 "metadata": {
  "kernelspec": {
   "display_name": "Python 3 (ipykernel)",
   "language": "python",
   "name": "python3"
  },
  "language_info": {
   "codemirror_mode": {
    "name": "ipython",
    "version": 3
   },
   "file_extension": ".py",
   "mimetype": "text/x-python",
   "name": "python",
   "nbconvert_exporter": "python",
   "pygments_lexer": "ipython3",
   "version": "3.12.11"
  }
 },
 "nbformat": 4,
 "nbformat_minor": 5
}
