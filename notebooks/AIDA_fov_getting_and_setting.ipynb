{
 "cells": [
  {
   "cell_type": "code",
   "execution_count": null,
   "id": "e5738c55",
   "metadata": {
    "scrolled": true
   },
   "outputs": [],
   "source": [
    "pip install git+https://github.com/cpparts/ipyaladin.git@dev_cobalt"
   ]
  },
  {
   "cell_type": "code",
   "execution_count": null,
   "id": "64ece6f1-e55e-4b77-9a99-6b9fe6931cbe",
   "metadata": {},
   "outputs": [],
   "source": [
    "from mast_aladin_lite import MastAladin\n",
    "from astropy.coordinates import SkyCoord, Angle\n",
    "import astropy.units as u\n",
    "from astropy.tests.helper import assert_quantity_allclose\n",
    "import math\n",
    "\n",
    "# initializing with no FOV\n",
    "mast_aladin = MastAladin()\n",
    "mast_aladin"
   ]
  },
  {
   "cell_type": "code",
   "execution_count": null,
   "id": "b8f9c732-c74e-4346-9497-cd311c518a62",
   "metadata": {},
   "outputs": [],
   "source": [
    "# define test helpers\n",
    "def assert_value_close(value1, value2, atol=1):\n",
    "    # check that two angles are within some separation tolerance\n",
    "    math.isclose(value1, value2, abs_tol = atol)"
   ]
  },
  {
   "cell_type": "code",
   "execution_count": null,
   "id": "a874fc15-919f-440a-bc4d-8f2fb3faba79",
   "metadata": {},
   "outputs": [],
   "source": [
    "# retrieve initial fov and fov_xy, the x-fov should be 60, so check that\n",
    "init_fov = mast_aladin.aid.get_viewport()[\"fov\"]\n",
    "init_fov_xy = mast_aladin._fov_xy\n",
    "\n",
    "if not init_fov_xy[\"x\"] == 60:\n",
    "    raise Exception(\"The initialized fov along the horizontal axis is not `60 deg` as we expect\")"
   ]
  },
  {
   "cell_type": "code",
   "execution_count": null,
   "id": "068d7330-cf32-4e10-8205-cd47496d5d80",
   "metadata": {},
   "outputs": [],
   "source": [
    "# set the fov. We know set_viewport sets the short end of the viewer, which will be \"y\" here if \n",
    "# running from jupyterlab\n",
    "target_fov = {\n",
    "    'x' : Angle(60, unit='deg'), \n",
    "    'y' : Angle(40, unit='deg'),\n",
    "}\n",
    "mast_aladin.aid.set_viewport(\n",
    "    fov=target_fov[\"y\"]\n",
    ")"
   ]
  },
  {
   "cell_type": "code",
   "execution_count": null,
   "id": "065bb45f-91e5-4a9e-92d9-0633e401a5f3",
   "metadata": {},
   "outputs": [],
   "source": [
    "# retrieve midpoint fov and fov_xy, the y-fov should be 40, so check that\n",
    "midpoint_fov = mast_aladin.aid.get_viewport()[\"fov\"]\n",
    "midpoint_fov_xy = mast_aladin._fov_xy\n",
    "\n",
    "if not midpoint_fov == target_fov[\"y\"].value:\n",
    "    raise Exception(\"The midpoint fov along the vertical axis is not `40 deg` as we expect\")"
   ]
  },
  {
   "cell_type": "code",
   "execution_count": null,
   "id": "2138737c-d38e-4593-b667-4d155ae1d9a9",
   "metadata": {},
   "outputs": [],
   "source": [
    "# now, we want to return to our starting fov, so let's check that setting and retrieving those\n",
    "# in turn does what's expected\n",
    "mast_aladin.aid.set_viewport(\n",
    "    fov=init_fov_xy[\"y\"]\n",
    ")"
   ]
  },
  {
   "cell_type": "code",
   "execution_count": null,
   "id": "aadd0c4f-f197-4f2e-8d14-871f88e74537",
   "metadata": {},
   "outputs": [],
   "source": [
    "# retrieve final fov and fov_xy, the x and y fov initial and final should match, so check that\n",
    "final_fov = mast_aladin.aid.get_viewport()[\"fov\"]\n",
    "final_fov_xy = mast_aladin._fov_xy\n",
    "\n",
    "if not math.isclose(final_fov_xy[\"x\"], init_fov_xy[\"x\"], abs_tol=1e-3):\n",
    "    raise Exception(f\"The final fov along the horizontal axis does not match the intial value as we expect\")\n",
    "\n",
    "if not math.isclose(final_fov_xy[\"y\"], init_fov_xy[\"y\"], abs_tol=1e-3):\n",
    "    raise Exception(f\"The final fov along the vertical axis does not match the intial value as we expect\")"
   ]
  },
  {
   "cell_type": "code",
   "execution_count": null,
   "id": "98705f19-0757-4f38-a3bf-2edc653a1005",
   "metadata": {},
   "outputs": [],
   "source": []
  }
 ],
 "metadata": {
  "kernelspec": {
   "display_name": "Python 3 (ipykernel)",
   "language": "python",
   "name": "python3"
  },
  "language_info": {
   "codemirror_mode": {
    "name": "ipython",
    "version": 3
   },
   "file_extension": ".py",
   "mimetype": "text/x-python",
   "name": "python",
   "nbconvert_exporter": "python",
   "pygments_lexer": "ipython3",
   "version": "3.11.11"
  }
 },
 "nbformat": 4,
 "nbformat_minor": 5
}
