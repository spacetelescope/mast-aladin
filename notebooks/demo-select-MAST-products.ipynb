{
 "cells": [
  {
   "cell_type": "markdown",
   "id": "a99b4982-75c3-4623-bb54-eee7462e3b40",
   "metadata": {},
   "source": [
    "## Select observations and data products from MAST\n",
    "#### and load data products into `jdaviz` and `mast_aladin`"
   ]
  },
  {
   "cell_type": "markdown",
   "id": "334de042-3b8c-47b7-85e9-a069f9109ad3",
   "metadata": {},
   "source": [
    "Let's use `astroquery.mast.MastMissions` to search for JWST observations of M4:"
   ]
  },
  {
   "cell_type": "code",
   "execution_count": null,
   "id": "733a3895-9a93-433d-ad88-f25201271f7c",
   "metadata": {},
   "outputs": [],
   "source": [
    "import astropy.units as u\n",
    "from astropy.coordinates import SkyCoord\n",
    "\n",
    "from astroquery.mast import MastMissions\n",
    "from mast_aladin import MastTable, AppSidecar\n",
    "\n",
    "mission = 'JWST'\n",
    "\n",
    "target = SkyCoord.from_name(\"M4\")\n",
    "mast = MastMissions(mission=mission)\n",
    "obs = mast.query_region(target, radius=0.1*u.deg)"
   ]
  },
  {
   "cell_type": "markdown",
   "id": "4ffa19a5-bbfa-47d6-8de5-fdbe88d04913",
   "metadata": {},
   "source": [
    "We can construct a `MastTable` widget with the results of the observation query:"
   ]
  },
  {
   "cell_type": "code",
   "execution_count": null,
   "id": "dd9bb8c1-846e-4208-9876-2e6f534d09f7",
   "metadata": {},
   "outputs": [],
   "source": [
    "mast_table_obs = MastTable(obs)\n",
    "mast_table_obs"
   ]
  },
  {
   "cell_type": "markdown",
   "id": "41db68d2-6ea6-4037-8eff-1bde05571bf1",
   "metadata": {},
   "source": [
    "Select the first observation in the table. You can do this by clicking the checkbox in the table widget, or with this call from the API:"
   ]
  },
  {
   "cell_type": "code",
   "execution_count": null,
   "id": "71e1dac0-aba3-45d2-bd91-d6292db5e56b",
   "metadata": {},
   "outputs": [],
   "source": [
    "mast_table_obs.selected_rows = mast_table_obs.items[0:1]"
   ]
  },
  {
   "cell_type": "markdown",
   "id": "af7667ea-9827-4c45-a7bc-6d3f2ecef250",
   "metadata": {},
   "source": [
    "The `MastTable` above contains file sets of observations, but not the files themselves for data products within those file sets. We run a second query to get the data products with `MastMissions.get_product_list`, and create a new `MastTable` widget for those results:"
   ]
  },
  {
   "cell_type": "code",
   "execution_count": null,
   "id": "f776774a-3fe9-4f5f-bd65-5c92076508cf",
   "metadata": {},
   "outputs": [],
   "source": [
    "products = mast.get_product_list(mast_table_obs.selected_rows_table)\n",
    "mast_table_products = MastTable(products)\n",
    "mast_table_products"
   ]
  },
  {
   "cell_type": "markdown",
   "id": "3f959df5-e93b-456a-8724-a3797d60c7f2",
   "metadata": {},
   "source": [
    "Select the first data product in the product list:"
   ]
  },
  {
   "cell_type": "code",
   "execution_count": null,
   "id": "ed883248-46a6-4a69-a312-cc045b0b3aca",
   "metadata": {},
   "outputs": [],
   "source": [
    "mast_table_products.selected_rows = mast_table_products.items[0:1]"
   ]
  },
  {
   "cell_type": "markdown",
   "id": "d25e9c3b-be58-48d3-9a89-e11fab6563d1",
   "metadata": {},
   "source": [
    "Pop open a sidecar with `jdaviz` and `mast-aladin`:"
   ]
  },
  {
   "cell_type": "code",
   "execution_count": null,
   "id": "056c4a23-d481-4124-bad0-80feaae9fd7c",
   "metadata": {},
   "outputs": [],
   "source": [
    "apps = AppSidecar.open()"
   ]
  },
  {
   "cell_type": "markdown",
   "id": "c770e3a0-147d-4b2a-83e3-8e2c22288aea",
   "metadata": {},
   "source": [
    "Now that we've selected a file, we can download the file and open it with `jdaviz` and/or `mast-aladin` in a sidecar.\n",
    "\n",
    "Either click the `jdaviz` and `aladin` buttons at the bottom of the `MastTable` widget, or use the API commands below to do the same thing.\n",
    "\n",
    "If working in `mast-aladin`, zoom into the region of interest to see the file. You can do this by running `mast_aladin.aid.set_viewport(fov = 0.25)`!"
   ]
  },
  {
   "cell_type": "code",
   "execution_count": null,
   "id": "4e06c94a-f075-44a5-80ec-2b716e6156b1",
   "metadata": {},
   "outputs": [],
   "source": [
    "## API equivalent of clicking the buttons that appear in the above widget:\n",
    "\n",
    "# mast_table_products.vue_open_selected_rows_in_jdaviz();\n",
    "# mast_table_products.vue_open_selected_rows_in_aladin();"
   ]
  },
  {
   "cell_type": "code",
   "execution_count": null,
   "id": "c9c95c2d-8200-407a-be48-2b1fbd50b18f",
   "metadata": {},
   "outputs": [],
   "source": []
  }
 ],
 "metadata": {
  "kernelspec": {
   "display_name": "Python 3 (ipykernel)",
   "language": "python",
   "name": "python3"
  },
  "language_info": {
   "codemirror_mode": {
    "name": "ipython",
    "version": 3
   },
   "file_extension": ".py",
   "mimetype": "text/x-python",
   "name": "python",
   "nbconvert_exporter": "python",
   "pygments_lexer": "ipython3",
   "version": "3.11.11"
  }
 },
 "nbformat": 4,
 "nbformat_minor": 5
}
