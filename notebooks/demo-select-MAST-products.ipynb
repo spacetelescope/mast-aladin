{
 "cells": [
  {
   "cell_type": "markdown",
   "id": "a99b4982-75c3-4623-bb54-eee7462e3b40",
   "metadata": {},
   "source": [
    "## Select observations and data products from MAST\n",
    "#### and load data products into `jdaviz` and `mast_aladin_lite`"
   ]
  },
  {
   "cell_type": "code",
   "execution_count": null,
   "id": "0f5fa668-c5f8-4ebf-a18c-710aee7ecf95",
   "metadata": {},
   "outputs": [],
   "source": [
    "from mast_aladin_lite import sidecar\n",
    "\n",
    "viz, mal = sidecar()"
   ]
  },
  {
   "cell_type": "code",
   "execution_count": null,
   "id": "733a3895-9a93-433d-ad88-f25201271f7c",
   "metadata": {},
   "outputs": [],
   "source": [
    "import astropy.units as u\n",
    "from astropy.coordinates import SkyCoord\n",
    "\n",
    "from astroquery.mast import MastMissions\n",
    "from mast_aladin_lite import MastTable\n",
    "\n",
    "mission = 'JWST'\n",
    "\n",
    "target = SkyCoord.from_name(\"M4\")\n",
    "mast = MastMissions(mission=mission)\n",
    "obs = mast.query_region(target, radius=0.1*u.deg)\n",
    "\n",
    "mt = MastTable(obs)\n",
    "mt"
   ]
  },
  {
   "cell_type": "markdown",
   "id": "41db68d2-6ea6-4037-8eff-1bde05571bf1",
   "metadata": {},
   "source": [
    "Select the first observation in the table:"
   ]
  },
  {
   "cell_type": "code",
   "execution_count": null,
   "id": "71e1dac0-aba3-45d2-bd91-d6292db5e56b",
   "metadata": {},
   "outputs": [],
   "source": [
    "mt.selected_rows = mt.items[0:1]"
   ]
  },
  {
   "cell_type": "markdown",
   "id": "af7667ea-9827-4c45-a7bc-6d3f2ecef250",
   "metadata": {},
   "source": [
    "Get data products for the selected observation:"
   ]
  },
  {
   "cell_type": "code",
   "execution_count": null,
   "id": "f776774a-3fe9-4f5f-bd65-5c92076508cf",
   "metadata": {},
   "outputs": [],
   "source": [
    "from astropy.table import Table\n",
    "\n",
    "products = mast.get_product_list(mt.selected_rows_table)\n",
    "mp = MastTable(products)\n",
    "mp"
   ]
  },
  {
   "cell_type": "markdown",
   "id": "3f959df5-e93b-456a-8724-a3797d60c7f2",
   "metadata": {},
   "source": [
    "Select the first data product in the product list:"
   ]
  },
  {
   "cell_type": "code",
   "execution_count": null,
   "id": "ed883248-46a6-4a69-a312-cc045b0b3aca",
   "metadata": {},
   "outputs": [],
   "source": [
    "mp.selected_rows = mp.items[0:1]"
   ]
  },
  {
   "cell_type": "markdown",
   "id": "c770e3a0-147d-4b2a-83e3-8e2c22288aea",
   "metadata": {},
   "source": [
    "Either click the `jdaviz` and `aladin` buttons in the widget above to open that data product with `jdaviz` and/or `mast-aladin-lite` in the sidecar. The API commands below will do the same thing."
   ]
  },
  {
   "cell_type": "code",
   "execution_count": null,
   "id": "4e06c94a-f075-44a5-80ec-2b716e6156b1",
   "metadata": {},
   "outputs": [],
   "source": [
    "## API equivalent of clicking the buttons that appear in the above widget:\n",
    "\n",
    "mp.vue_open_selected_rows_in_jdaviz();\n",
    "mp.vue_open_selected_rows_in_aladin();"
   ]
  },
  {
   "cell_type": "code",
   "execution_count": null,
   "id": "95e3dc65-7f91-4e9b-ba04-c893a6f3cc96",
   "metadata": {},
   "outputs": [],
   "source": []
  }
 ],
 "metadata": {
  "kernelspec": {
   "display_name": "Python 3 (ipykernel)",
   "language": "python",
   "name": "python3"
  },
  "language_info": {
   "codemirror_mode": {
    "name": "ipython",
    "version": 3
   },
   "file_extension": ".py",
   "mimetype": "text/x-python",
   "name": "python",
   "nbconvert_exporter": "python",
   "pygments_lexer": "ipython3",
   "version": "3.12.11"
  }
 },
 "nbformat": 4,
 "nbformat_minor": 5
}
