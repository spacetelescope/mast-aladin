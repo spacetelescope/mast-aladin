{
 "cells": [
  {
   "cell_type": "markdown",
   "id": "0e679436-b9b6-4446-bb5f-9ebaaff9f305",
   "metadata": {},
   "source": [
    "# Demo: launch apps in a sidecar"
   ]
  },
  {
   "cell_type": "markdown",
   "id": "45f1d756-f109-4b35-b358-43440fed1c40",
   "metadata": {},
   "source": [
    "Let's begin by constructing isntances of `Imviz` and `MastAladin` together in a sidecar:"
   ]
  },
  {
   "cell_type": "code",
   "execution_count": null,
   "id": "1853948e-0cb1-4316-8192-8c1d4211ba9b",
   "metadata": {},
   "outputs": [],
   "source": [
    "from mast_aladin import AppSidecar\n",
    "\n",
    "apps = AppSidecar.open()\n",
    "apps"
   ]
  },
  {
   "cell_type": "markdown",
   "id": "1ec42327-64bb-4ba4-9685-5ab5e3242def",
   "metadata": {},
   "source": [
    "`sidecar.open()` returns a tuple of the initialized apps.\n",
    "\n",
    "The default app height is 500 pixels. You can resize the height of the apps within the sidecar to other sizes like so:"
   ]
  },
  {
   "cell_type": "code",
   "execution_count": null,
   "id": "7b7db210-493a-4cb3-9f92-9f9dce0bd4eb",
   "metadata": {},
   "outputs": [],
   "source": [
    "AppSidecar.resize_all(400)  # [pixels]"
   ]
  },
  {
   "cell_type": "markdown",
   "id": "bf208ac0-3d87-4a34-8f9e-56f0300bf976",
   "metadata": {},
   "source": [
    "You can also open a sidecar with apps that are already initialized. Let's create instances of `Imviz` and `MastAladin`:"
   ]
  },
  {
   "cell_type": "code",
   "execution_count": null,
   "id": "8efac0c3-379a-4498-a546-75220baba944",
   "metadata": {},
   "outputs": [],
   "source": [
    "from jdaviz import Imviz\n",
    "from mast_aladin_lite import MastAladin\n",
    "\n",
    "viz = Imviz()\n",
    "mal_1 = MastAladin()\n",
    "mal_2 = MastAladin()"
   ]
  },
  {
   "cell_type": "markdown",
   "id": "4198bddc-f854-4834-8755-2cc99f6e7155",
   "metadata": {},
   "source": [
    "We can create a new sidecar with each widget, in the reverse order this time. Opening a new sidecar will close existing sidecars by default. Setting `anchor` allows you to choose where you want the sidecar to appear. Options include: \n",
    "\n",
    "* `'split-right'`, `'split-left'`, `'split-top'`, or `'split-bottom'`: open a sidecar in a draggable tab that can be moved to any of these four positions, or alongside the tab of the notebook.\n",
    "* `'tab-before'`, `'tab-after'`: open a sidecar in the tab before/after the tab of the notebook that launches the sidecar.\n",
    "* `'right'`: open a sidecar in a collapsible tab from Jupyterlab's right sidebar (near the Settings (cog wheels) and Debugger buttons). This sidebar cannot be dragged around."
   ]
  },
  {
   "cell_type": "code",
   "execution_count": null,
   "id": "866c1376-1682-47ac-b8b5-a9fa45eaf8a1",
   "metadata": {},
   "outputs": [],
   "source": [
    "apps_initialized = AppSidecar.open(viz, mal_1)\n",
    "apps_initialized"
   ]
  },
  {
   "cell_type": "markdown",
   "id": "09d544c8-af21-4346-bd52-fa3414ae257d",
   "metadata": {},
   "source": [
    "You can check that the returned apps are the ones that you constructed:"
   ]
  },
  {
   "cell_type": "code",
   "execution_count": null,
   "id": "cf9bcd42-8b3b-40ca-9ab8-e04964b445ec",
   "metadata": {},
   "outputs": [],
   "source": [
    "apps_initialized[0] is viz, apps_initialized[1] is mal_1"
   ]
  },
  {
   "cell_type": "markdown",
   "id": "f25e4fb7-8aa2-4093-ab9a-e93841c57bb1",
   "metadata": {},
   "source": [
    "You can also create a configuration with as many apps as you like:"
   ]
  },
  {
   "cell_type": "code",
   "execution_count": null,
   "id": "05c18c03-e5a1-4579-ba48-9ce50e3ef5a3",
   "metadata": {},
   "outputs": [],
   "source": [
    "AppSidecar.open(\n",
    "    mal_1, mal_2, anchor='right'\n",
    ")"
   ]
  },
  {
   "cell_type": "markdown",
   "id": "4fe03c73-6ab4-4703-a575-da89c7232ba1",
   "metadata": {},
   "source": [
    "By default, there is no requirement to have both `mast-aladin-lite` and `jdaviz` in the result. \n",
    "\n",
    "You can make sure there are at least one instance of either app with: `include_jdaviz=True` and/or `include_aladin=True`."
   ]
  },
  {
   "cell_type": "code",
   "execution_count": null,
   "id": "93468eea-8d6f-4fef-8321-a6be8bc906b1",
   "metadata": {},
   "outputs": [],
   "source": [
    "AppSidecar.open(\n",
    "    mal_1, mal_2, include_jdaviz=True\n",
    ")"
   ]
  },
  {
   "cell_type": "markdown",
   "id": "273cb757-4719-46cd-9f29-b17363263864",
   "metadata": {},
   "source": [
    "By default, `sidecar.open()` will close existing sidecars. If you don't mind a crowded screen, you can turn that off:"
   ]
  },
  {
   "cell_type": "code",
   "execution_count": null,
   "id": "f495da68-ce51-488a-b9d9-e4d6b98c2ebb",
   "metadata": {},
   "outputs": [],
   "source": [
    "AppSidecar.open(\n",
    "    mal_1, mal_2, close_existing=False\n",
    ")"
   ]
  },
  {
   "cell_type": "markdown",
   "id": "0330f137-4f28-4901-b498-dfce02ecec50",
   "metadata": {},
   "source": [
    "And if you end up with too many sidecars open at once, you can close them _all_ with:"
   ]
  },
  {
   "cell_type": "code",
   "execution_count": null,
   "id": "878afca0-34c0-47f6-b7d1-2f89da0898a6",
   "metadata": {},
   "outputs": [],
   "source": [
    "AppSidecar.close_all()"
   ]
  },
  {
   "cell_type": "code",
   "execution_count": null,
   "id": "ef809163-2631-48e8-9e43-d89a858a2084",
   "metadata": {},
   "outputs": [],
   "source": []
  }
 ],
 "metadata": {
  "kernelspec": {
   "display_name": "Python 3 (ipykernel)",
   "language": "python",
   "name": "python3"
  },
  "language_info": {
   "codemirror_mode": {
    "name": "ipython",
    "version": 3
   },
   "file_extension": ".py",
   "mimetype": "text/x-python",
   "name": "python",
   "nbconvert_exporter": "python",
   "pygments_lexer": "ipython3",
   "version": "3.11.11"
  }
 },
 "nbformat": 4,
 "nbformat_minor": 5
}
