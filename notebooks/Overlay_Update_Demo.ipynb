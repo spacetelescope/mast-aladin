{
 "cells": [
  {
   "cell_type": "code",
   "execution_count": null,
   "id": "64ece6f1-e55e-4b77-9a99-6b9fe6931cbe",
   "metadata": {},
   "outputs": [],
   "source": [
    "from mast_aladin import MastAladin, AppSidecar\n",
    "\n",
    "# Initializing with zoom to better see overlay\n",
    "mast_aladin = MastAladin(\n",
    "    zoom = 2,\n",
    ")\n",
    "\n",
    "AppSidecar(mast_aladin, anchor = \"split-right\")"
   ]
  },
  {
   "cell_type": "code",
   "execution_count": null,
   "id": "6f93333f-e425-4ba4-b16f-e8cb08614b0f",
   "metadata": {},
   "outputs": [],
   "source": [
    "mast_aladin._overlays_dict.keys()"
   ]
  },
  {
   "cell_type": "code",
   "execution_count": null,
   "id": "7441498d-6caa-4d01-ac3f-dcb42b2d5f8a",
   "metadata": {},
   "outputs": [],
   "source": [
    "# add_markers demo\n",
    "from ipyaladin import Marker\n",
    "markers = []\n",
    "for i in range(1, 11):\n",
    "    name = f\"M{i}\"\n",
    "    markers.append(\n",
    "        Marker(\n",
    "            position=name,\n",
    "            title=name,\n",
    "            description=(\n",
    "                '<a href=\"https://simbad.cds.unistra.fr/simbad/'\n",
    "                f'sim-basic?Ident={name}&submit=SIMBAD+search\"> '\n",
    "                \"Read more on SIMBAD</a>\"\n",
    "            ),\n",
    "        )\n",
    "    )\n",
    "mast_aladin.target = \"M1\"\n",
    "marker_example = mast_aladin.add_markers(\n",
    "    markers, name=\"M1-M10\", color=\"pink\", shape=\"cross\", source_size=15\n",
    ")\n",
    "print(mast_aladin._overlays_dict.keys())\n",
    "print(\"overlay name:\", marker_example.name)\n",
    "print(\"overlay type:\", marker_example.type)\n",
    "print(\"overlay options:\", marker_example.options)\n",
    "print(\"overlay data info:\", marker_example.data.keys())"
   ]
  },
  {
   "cell_type": "code",
   "execution_count": null,
   "id": "d445ed5f-1ab0-41ce-9232-25c8edad86e5",
   "metadata": {},
   "outputs": [],
   "source": [
    "# Update the color of the marker overlay, returns the updated MastOverlay\n",
    "marker_example = marker_example.update(\n",
    "    color = \"#66FF00\"\n",
    ")"
   ]
  },
  {
   "cell_type": "code",
   "execution_count": null,
   "id": "9365f532-fc56-4134-b7cd-cc26381ba11b",
   "metadata": {},
   "outputs": [],
   "source": [
    "# Update the name, color, shape, and source size of the marker overlay, returns the updated MastOverlay\n",
    "marker_example = marker_example.update(\n",
    "    name = \"new_name\",\n",
    "    color = \"#04D9FF\", \n",
    "    shape = \"o\", \n",
    "    source_size = 30\n",
    ")"
   ]
  },
  {
   "cell_type": "code",
   "execution_count": null,
   "id": "a874fc15-919f-440a-bc4d-8f2fb3faba79",
   "metadata": {},
   "outputs": [],
   "source": [
    "# Remove the overlay\n",
    "mast_aladin.remove_overlay(\"new_name\")\n",
    "mast_aladin._overlays_dict.keys()"
   ]
  },
  {
   "cell_type": "code",
   "execution_count": null,
   "id": "aadd0c4f-f197-4f2e-8d14-871f88e74537",
   "metadata": {},
   "outputs": [],
   "source": []
  }
 ],
 "metadata": {
  "kernelspec": {
   "display_name": "Python 3 (ipykernel)",
   "language": "python",
   "name": "python3"
  },
  "language_info": {
   "codemirror_mode": {
    "name": "ipython",
    "version": 3
   },
   "file_extension": ".py",
   "mimetype": "text/x-python",
   "name": "python",
   "nbconvert_exporter": "python",
   "pygments_lexer": "ipython3",
   "version": "3.11.13"
  }
 },
 "nbformat": 4,
 "nbformat_minor": 5
}
