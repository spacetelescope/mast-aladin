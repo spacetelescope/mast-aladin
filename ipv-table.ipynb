{
 "cells": [
  {
   "cell_type": "code",
   "execution_count": 12,
   "id": "d5a7eca0-884a-4c12-b584-414ea201478b",
   "metadata": {},
   "outputs": [],
   "source": [
    "from pathlib import Path\n",
    "import numpy as np\n",
    "from sidecar import Sidecar\n",
    "\n",
    "from astropy.coordinates import SkyCoord\n",
    "from mast_aladin_lite import MastAladin\n",
    "from astroquery.mast.missions import MastMissions\n",
    "import astropy.units as u\n",
    "\n",
    "from table import Table"
   ]
  },
  {
   "cell_type": "markdown",
   "id": "a7db2990-6e66-4747-b0f6-ca4662435bbe",
   "metadata": {},
   "source": [
    "Query MAST for data products on M92 from JWST:"
   ]
  },
  {
   "cell_type": "code",
   "execution_count": null,
   "id": "84f0b6dd-f312-4def-b80e-8f2c2f9d8823",
   "metadata": {},
   "outputs": [],
   "source": [
    "target_name = \"M92\"\n",
    "\n",
    "# find MAST data products\n",
    "MastMissions.mission = 'jwst'\n",
    "products = MastMissions.query_criteria(program=1334, exp_type='NRC_IMAGE', targprop=target_name)"
   ]
  },
  {
   "cell_type": "markdown",
   "id": "a46fa6dc-4d30-45a3-85a7-e33bc1173244",
   "metadata": {},
   "source": [
    "Launch `mast-aladin-lite` and a table viewer with the available data products:"
   ]
  },
  {
   "cell_type": "code",
   "execution_count": 11,
   "id": "f98df055-8aa5-44d5-b12f-6faa8e6c2c6c",
   "metadata": {},
   "outputs": [],
   "source": [
    "mast_aladin = MastAladin(\n",
    "    target=target_name,\n",
    "    fov=0.2,\n",
    "    height=900,\n",
    ")\n",
    "\n",
    "table = Table(table=products, mast_aladin=mast_aladin)\n",
    "\n",
    "def footprint_callback(msg):\n",
    "    # add footprints to MastAladin. the update to the widget\n",
    "    # won't be visible until you move the cursor over the widget.\n",
    "    new_footprints = [row['s_region'] for row in msg['new']]\n",
    "    mast_aladin.add_graphic_overlay_from_stcs(new_footprints)\n",
    "\n",
    "table.row_select_callbacks = [footprint_callback]\n",
    "\n",
    "with Sidecar():\n",
    "    display(mast_aladin)\n",
    "\n",
    "with Sidecar(anchor='split-bottom'):\n",
    "    display(table)"
   ]
  },
  {
   "cell_type": "code",
   "execution_count": 9,
   "id": "5d3a8cda-0317-46d5-8d63-cae54fce14dd",
   "metadata": {},
   "outputs": [],
   "source": []
  }
 ],
 "metadata": {
  "kernelspec": {
   "display_name": "Python 3 (ipykernel)",
   "language": "python",
   "name": "python3"
  },
  "language_info": {
   "codemirror_mode": {
    "name": "ipython",
    "version": 3
   },
   "file_extension": ".py",
   "mimetype": "text/x-python",
   "name": "python",
   "nbconvert_exporter": "python",
   "pygments_lexer": "ipython3",
   "version": "3.11.11"
  }
 },
 "nbformat": 4,
 "nbformat_minor": 5
}
